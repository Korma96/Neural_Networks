{
  "cells": [
    {
      "cell_type": "code",
      "execution_count": 1,
      "metadata": {
        "colab": {
          "base_uri": "https://localhost:8080/"
        },
        "id": "Rv4Gn9iZkfYm",
        "outputId": "856072b0-dbd0-4819-d6c1-bcc8ce8a6ff9"
      },
      "outputs": [
        {
          "name": "stdout",
          "output_type": "stream",
          "text": [
            "Mounted at /content/drive\n"
          ]
        }
      ],
      "source": [
        "from google.colab import drive\n",
        "drive.mount('/content/drive')"
      ]
    },
    {
      "cell_type": "markdown",
      "metadata": {
        "id": "XXoZhpFH5mR2"
      },
      "source": [
        "# Imports"
      ]
    },
    {
      "cell_type": "code",
      "execution_count": 114,
      "metadata": {
        "id": "REUvMyKblSRZ"
      },
      "outputs": [],
      "source": [
        "import os\n",
        "import math\n",
        "import time \n",
        "import json\n",
        "import torch\n",
        "import random\n",
        "import numpy as np\n",
        "import pandas as pd\n",
        "from datetime import datetime\n",
        "from torch.utils.data import DataLoader\n",
        "\n",
        "from tensorflow.keras.preprocessing.text import Tokenizer\n",
        "from tensorflow.keras.preprocessing.sequence import pad_sequences\n",
        "\n",
        "from keras.models import Model\n",
        "from tensorflow.keras.optimizers import Adam\n",
        "from tensorflow.keras.utils import to_categorical\n",
        "from keras.layers import concatenate\n",
        "from keras.callbacks import Callback, ModelCheckpoint, EarlyStopping\n",
        "from sklearn.metrics import classification_report, confusion_matrix\n",
        "from sklearn.metrics import f1_score"
      ]
    },
    {
      "cell_type": "code",
      "execution_count": 115,
      "metadata": {
        "colab": {
          "base_uri": "https://localhost:8080/"
        },
        "id": "1TeE_s2Ql7Mi",
        "outputId": "d8e95875-6100-4946-c6d4-9b4e8895e597"
      },
      "outputs": [
        {
          "name": "stdout",
          "output_type": "stream",
          "text": [
            "[Errno 2] No such file or directory: 'drive/MyDrive/Neuronske/doc/WikiQACorpus/'\n",
            "/content/drive/MyDrive/Neuronske/doc/WikiQACorpus\n"
          ]
        }
      ],
      "source": [
        "cd drive/MyDrive/Neuronske/doc/WikiQACorpus/\n"
      ]
    },
    {
      "cell_type": "markdown",
      "metadata": {
        "id": "GTrgE8-Kntss"
      },
      "source": [
        "# Read data"
      ]
    },
    {
      "cell_type": "code",
      "execution_count": 116,
      "metadata": {
        "id": "sV6E4SCaloNc"
      },
      "outputs": [],
      "source": [
        "DATASET_FOLDER_PATH = ' WikiQACorpus/'\n",
        "\n",
        "train_dataset_path = \"WikiQA-train.tsv\"\n",
        "dev_dataset_path = \"WikiQA-dev.tsv\"\n",
        "\n",
        "df_train = pd.read_csv(train_dataset_path, delimiter='\\t')\n",
        "df_dev = pd.read_csv(dev_dataset_path, delimiter='\\t')"
      ]
    },
    {
      "cell_type": "markdown",
      "metadata": {
        "id": "UyvwRgrXdr3W"
      },
      "source": [
        "# Hyper parameters"
      ]
    },
    {
      "cell_type": "code",
      "execution_count": 117,
      "metadata": {
        "id": "kZhxsGqldnK2"
      },
      "outputs": [],
      "source": [
        "epochs = 7\n",
        "max_length = 40\n",
        "vocab_size = 25594\n",
        "embedding_dim = 100\n",
        "batch_size = 32\n",
        "\n",
        "trunc_type='post'\n",
        "padding_type='post'\n",
        "oov_tok = \"<OOV>\"\n",
        "\n",
        "word_embeddings = None\n",
        "word_embeddings_trainable=True\n",
        "\n",
        "early_stopping = EarlyStopping(monitor='val_loss', patience=2)\n",
        "callbacks = [ModelCheckpoint(\"question_answer_weights.h5\", monitor='val_loss', save_best_only=True)]\n",
        "\n",
        "class_weight = {0: 1., 1: 8.}"
      ]
    },
    {
      "cell_type": "code",
      "execution_count": 118,
      "metadata": {
        "colab": {
          "base_uri": "https://localhost:8080/",
          "height": 206
        },
        "id": "VHtCz775nIhN",
        "outputId": "3ff07d8f-09e3-4738-b953-2eb58c1f2c4a"
      },
      "outputs": [
        {
          "data": {
            "text/html": [
              "\n",
              "  <div id=\"df-ac807225-7399-4bf9-864c-bbbbd2f224c1\">\n",
              "    <div class=\"colab-df-container\">\n",
              "      <div>\n",
              "<style scoped>\n",
              "    .dataframe tbody tr th:only-of-type {\n",
              "        vertical-align: middle;\n",
              "    }\n",
              "\n",
              "    .dataframe tbody tr th {\n",
              "        vertical-align: top;\n",
              "    }\n",
              "\n",
              "    .dataframe thead th {\n",
              "        text-align: right;\n",
              "    }\n",
              "</style>\n",
              "<table border=\"1\" class=\"dataframe\">\n",
              "  <thead>\n",
              "    <tr style=\"text-align: right;\">\n",
              "      <th></th>\n",
              "      <th>QuestionID</th>\n",
              "      <th>Question</th>\n",
              "      <th>DocumentID</th>\n",
              "      <th>DocumentTitle</th>\n",
              "      <th>SentenceID</th>\n",
              "      <th>Sentence</th>\n",
              "      <th>Label</th>\n",
              "    </tr>\n",
              "  </thead>\n",
              "  <tbody>\n",
              "    <tr>\n",
              "      <th>0</th>\n",
              "      <td>Q1</td>\n",
              "      <td>how are glacier caves formed?</td>\n",
              "      <td>D1</td>\n",
              "      <td>Glacier cave</td>\n",
              "      <td>D1-0</td>\n",
              "      <td>A partly submerged glacier cave on Perito More...</td>\n",
              "      <td>0</td>\n",
              "    </tr>\n",
              "    <tr>\n",
              "      <th>1</th>\n",
              "      <td>Q1</td>\n",
              "      <td>how are glacier caves formed?</td>\n",
              "      <td>D1</td>\n",
              "      <td>Glacier cave</td>\n",
              "      <td>D1-1</td>\n",
              "      <td>The ice facade is approximately 60 m high</td>\n",
              "      <td>0</td>\n",
              "    </tr>\n",
              "    <tr>\n",
              "      <th>2</th>\n",
              "      <td>Q1</td>\n",
              "      <td>how are glacier caves formed?</td>\n",
              "      <td>D1</td>\n",
              "      <td>Glacier cave</td>\n",
              "      <td>D1-2</td>\n",
              "      <td>Ice formations in the Titlis glacier cave</td>\n",
              "      <td>0</td>\n",
              "    </tr>\n",
              "    <tr>\n",
              "      <th>3</th>\n",
              "      <td>Q1</td>\n",
              "      <td>how are glacier caves formed?</td>\n",
              "      <td>D1</td>\n",
              "      <td>Glacier cave</td>\n",
              "      <td>D1-3</td>\n",
              "      <td>A glacier cave is a cave formed within the ice...</td>\n",
              "      <td>1</td>\n",
              "    </tr>\n",
              "    <tr>\n",
              "      <th>4</th>\n",
              "      <td>Q1</td>\n",
              "      <td>how are glacier caves formed?</td>\n",
              "      <td>D1</td>\n",
              "      <td>Glacier cave</td>\n",
              "      <td>D1-4</td>\n",
              "      <td>Glacier caves are often called ice caves , but...</td>\n",
              "      <td>0</td>\n",
              "    </tr>\n",
              "  </tbody>\n",
              "</table>\n",
              "</div>\n",
              "      <button class=\"colab-df-convert\" onclick=\"convertToInteractive('df-ac807225-7399-4bf9-864c-bbbbd2f224c1')\"\n",
              "              title=\"Convert this dataframe to an interactive table.\"\n",
              "              style=\"display:none;\">\n",
              "        \n",
              "  <svg xmlns=\"http://www.w3.org/2000/svg\" height=\"24px\"viewBox=\"0 0 24 24\"\n",
              "       width=\"24px\">\n",
              "    <path d=\"M0 0h24v24H0V0z\" fill=\"none\"/>\n",
              "    <path d=\"M18.56 5.44l.94 2.06.94-2.06 2.06-.94-2.06-.94-.94-2.06-.94 2.06-2.06.94zm-11 1L8.5 8.5l.94-2.06 2.06-.94-2.06-.94L8.5 2.5l-.94 2.06-2.06.94zm10 10l.94 2.06.94-2.06 2.06-.94-2.06-.94-.94-2.06-.94 2.06-2.06.94z\"/><path d=\"M17.41 7.96l-1.37-1.37c-.4-.4-.92-.59-1.43-.59-.52 0-1.04.2-1.43.59L10.3 9.45l-7.72 7.72c-.78.78-.78 2.05 0 2.83L4 21.41c.39.39.9.59 1.41.59.51 0 1.02-.2 1.41-.59l7.78-7.78 2.81-2.81c.8-.78.8-2.07 0-2.86zM5.41 20L4 18.59l7.72-7.72 1.47 1.35L5.41 20z\"/>\n",
              "  </svg>\n",
              "      </button>\n",
              "      \n",
              "  <style>\n",
              "    .colab-df-container {\n",
              "      display:flex;\n",
              "      flex-wrap:wrap;\n",
              "      gap: 12px;\n",
              "    }\n",
              "\n",
              "    .colab-df-convert {\n",
              "      background-color: #E8F0FE;\n",
              "      border: none;\n",
              "      border-radius: 50%;\n",
              "      cursor: pointer;\n",
              "      display: none;\n",
              "      fill: #1967D2;\n",
              "      height: 32px;\n",
              "      padding: 0 0 0 0;\n",
              "      width: 32px;\n",
              "    }\n",
              "\n",
              "    .colab-df-convert:hover {\n",
              "      background-color: #E2EBFA;\n",
              "      box-shadow: 0px 1px 2px rgba(60, 64, 67, 0.3), 0px 1px 3px 1px rgba(60, 64, 67, 0.15);\n",
              "      fill: #174EA6;\n",
              "    }\n",
              "\n",
              "    [theme=dark] .colab-df-convert {\n",
              "      background-color: #3B4455;\n",
              "      fill: #D2E3FC;\n",
              "    }\n",
              "\n",
              "    [theme=dark] .colab-df-convert:hover {\n",
              "      background-color: #434B5C;\n",
              "      box-shadow: 0px 1px 3px 1px rgba(0, 0, 0, 0.15);\n",
              "      filter: drop-shadow(0px 1px 2px rgba(0, 0, 0, 0.3));\n",
              "      fill: #FFFFFF;\n",
              "    }\n",
              "  </style>\n",
              "\n",
              "      <script>\n",
              "        const buttonEl =\n",
              "          document.querySelector('#df-ac807225-7399-4bf9-864c-bbbbd2f224c1 button.colab-df-convert');\n",
              "        buttonEl.style.display =\n",
              "          google.colab.kernel.accessAllowed ? 'block' : 'none';\n",
              "\n",
              "        async function convertToInteractive(key) {\n",
              "          const element = document.querySelector('#df-ac807225-7399-4bf9-864c-bbbbd2f224c1');\n",
              "          const dataTable =\n",
              "            await google.colab.kernel.invokeFunction('convertToInteractive',\n",
              "                                                     [key], {});\n",
              "          if (!dataTable) return;\n",
              "\n",
              "          const docLinkHtml = 'Like what you see? Visit the ' +\n",
              "            '<a target=\"_blank\" href=https://colab.research.google.com/notebooks/data_table.ipynb>data table notebook</a>'\n",
              "            + ' to learn more about interactive tables.';\n",
              "          element.innerHTML = '';\n",
              "          dataTable['output_type'] = 'display_data';\n",
              "          await google.colab.output.renderOutput(dataTable, element);\n",
              "          const docLink = document.createElement('div');\n",
              "          docLink.innerHTML = docLinkHtml;\n",
              "          element.appendChild(docLink);\n",
              "        }\n",
              "      </script>\n",
              "    </div>\n",
              "  </div>\n",
              "  "
            ],
            "text/plain": [
              "  QuestionID                       Question DocumentID DocumentTitle  \\\n",
              "0         Q1  how are glacier caves formed?         D1  Glacier cave   \n",
              "1         Q1  how are glacier caves formed?         D1  Glacier cave   \n",
              "2         Q1  how are glacier caves formed?         D1  Glacier cave   \n",
              "3         Q1  how are glacier caves formed?         D1  Glacier cave   \n",
              "4         Q1  how are glacier caves formed?         D1  Glacier cave   \n",
              "\n",
              "  SentenceID                                           Sentence  Label  \n",
              "0       D1-0  A partly submerged glacier cave on Perito More...      0  \n",
              "1       D1-1          The ice facade is approximately 60 m high      0  \n",
              "2       D1-2          Ice formations in the Titlis glacier cave      0  \n",
              "3       D1-3  A glacier cave is a cave formed within the ice...      1  \n",
              "4       D1-4  Glacier caves are often called ice caves , but...      0  "
            ]
          },
          "execution_count": 118,
          "metadata": {},
          "output_type": "execute_result"
        }
      ],
      "source": [
        "df_train.head()"
      ]
    },
    {
      "cell_type": "code",
      "execution_count": 119,
      "metadata": {
        "id": "FDCCvrB-oP5h"
      },
      "outputs": [],
      "source": [
        "def parse_data(df: pd.DataFrame) -> tuple:\n",
        "    questions = df['Question'].tolist()\n",
        "    answers = df['Sentence'].tolist()\n",
        "    labels = df['Label'].tolist()\n",
        "    return questions, answers, labels"
      ]
    },
    {
      "cell_type": "markdown",
      "metadata": {
        "id": "58hE61L4n320"
      },
      "source": [
        "Dataset "
      ]
    },
    {
      "cell_type": "code",
      "execution_count": 120,
      "metadata": {
        "id": "DHr-L3EqoTrT"
      },
      "outputs": [],
      "source": [
        "questions_train, answers_train, labels_train = parse_data(df_train)\n",
        "questions_dev, answers_dev, labels_dev = parse_data(df_dev)\n",
        "\n",
        "y_train = np.array(df_train['Label'])\n",
        "y_dev = np.array(df_dev['Label'])\n",
        "\n",
        "y_train_predict = df_train['Label'].values\n",
        "y_dev_predict = df_dev['Label'].values"
      ]
    },
    {
      "cell_type": "markdown",
      "metadata": {
        "id": "1_tUzUaMbD2r"
      },
      "source": [
        "# Lematization"
      ]
    },
    {
      "cell_type": "code",
      "execution_count": 121,
      "metadata": {
        "colab": {
          "base_uri": "https://localhost:8080/"
        },
        "id": "6nY22F4mbGc_",
        "outputId": "5cbbaec0-aa22-4850-b804-3772938e42bc"
      },
      "outputs": [
        {
          "name": "stderr",
          "output_type": "stream",
          "text": [
            "[nltk_data] Downloading package stopwords to /root/nltk_data...\n",
            "[nltk_data]   Package stopwords is already up-to-date!\n"
          ]
        }
      ],
      "source": [
        "import nltk\n",
        "nltk.download('stopwords')\n",
        "from nltk.corpus import stopwords\n",
        "from nltk.stem.lancaster import LancasterStemmer\n",
        "from nltk.stem.porter import PorterStemmer\n",
        "from nltk.tokenize import RegexpTokenizer\n",
        "#ps = LancasterStemmer()\n",
        "# ps = PorterStemmer()\n",
        "\n",
        "tokenizer = RegexpTokenizer(r'\\w+')\n",
        "stop_words = set(stopwords.words('english'))\n",
        "\n",
        "def remove_stopwords(data):\n",
        "    output_array=[]\n",
        "    for sentence in data:\n",
        "        temp_list=[]\n",
        "        for word in sentence.split():\n",
        "            if word.lower() not in stop_words:\n",
        "                temp_list.append(word)\n",
        "        output_array.append(' '.join(temp_list))\n",
        "    return output_array\n",
        "\n",
        "def preprocessing(data):\n",
        "    txt = data.str.lower().str.cat(sep=' ') #1\n",
        "    words = tokenizer.tokenize(txt) #2\n",
        "    # words = [w for w in words if not w in stop_words] #3\n",
        "    words = remove_stopwords(words)\n",
        "    #words = [ps.stem(w) for w in words] #4 steming acctualy gives worse results when added #4\n",
        "    return words"
      ]
    },
    {
      "cell_type": "markdown",
      "metadata": {
        "id": "uKVvVsEibOo9"
      },
      "source": [
        "# Data preprocessing"
      ]
    },
    {
      "cell_type": "code",
      "execution_count": 122,
      "metadata": {
        "id": "2R9aNULobQcq"
      },
      "outputs": [],
      "source": [
        "import re\n",
        "REPLACE_BY_SPACE_RE = re.compile('[/(){}\\[\\]\\|@,;]')\n",
        "BAD_SYMBOLS_RE = re.compile('[^0-9a-z #+_]')\n",
        "STOPWORDS = set(stopwords.words('english'))\n",
        "def clean_text(text):\n",
        "    \"\"\"\n",
        "        text: a string\n",
        "        return: modified initial string\n",
        "    \"\"\"\n",
        "    text = text.lower() # lowercase text\n",
        "    text = REPLACE_BY_SPACE_RE.sub(' ', text)   # replace REPLACE_BY_SPACE_RE symbols by space in text. substitute the matched string in REPLACE_BY_SPACE_RE with space.\n",
        "    text = BAD_SYMBOLS_RE.sub('', text)         # remove symbols which are in BAD_SYMBOLS_RE from text. substitute the matched string in BAD_SYMBOLS_RE with nothing. \n",
        "    text = text.replace('x', '')\n",
        "    #text = re.sub(r'\\W+', '', text)\n",
        "    text = ' '.join(word for word in text.split() if word not in STOPWORDS) # remove stopwors from text\n",
        "    return text\n",
        "\n",
        "df_train['Cleaned_Questions'] = df_train['Question'].apply(clean_text)\n",
        "df_train['Cleaned_Answers'] = df_train['Sentence'].apply(clean_text)\n",
        "df_dev['Cleaned_Questions'] = df_dev['Question'].apply(clean_text)\n",
        "df_dev['Cleaned_Answers'] = df_dev['Sentence'].apply(clean_text)"
      ]
    },
    {
      "cell_type": "code",
      "execution_count": 123,
      "metadata": {
        "id": "1o4iG6U_eS1P"
      },
      "outputs": [],
      "source": [
        "# training\n",
        "new_str_train_question = [str(x) for x in df_train['Cleaned_Questions']]\n",
        "new_str_train_answer = [str(x) for x in df_train['Cleaned_Answers']]\n",
        "\n",
        "# validation\n",
        "new_str_dev_question = [str(x) for x in df_dev['Cleaned_Questions']]\n",
        "new_str_dev_answer = [str(x) for x in df_dev['Cleaned_Answers']]\n",
        "\n",
        "# training\n",
        "df_train_questions = pd.DataFrame(new_str_train_question)\n",
        "df_train_answers = pd.DataFrame(new_str_train_answer)\n",
        "\n",
        "# validation\n",
        "df_dev_questions = pd.DataFrame(new_str_dev_question)\n",
        "df_dev_answers = pd.DataFrame(new_str_dev_answer)\n",
        "\n",
        "train_questions = []\n",
        "train_answers = []\n",
        "dev_questions = []\n",
        "dev_answers = []\n",
        "for i in range(len(df_train_questions)):\n",
        "  train_questions.append(preprocessing(df_train_questions.iloc[i]))\n",
        "for i in range(len(df_train_answers)):\n",
        "  train_answers.append(preprocessing(df_train_answers.iloc[i]))\n",
        "for i in range(len(df_dev_questions)):\n",
        "  dev_questions.append(preprocessing(df_dev_questions.iloc[i]))\n",
        "for i in range(len(df_dev_answers)):\n",
        "  dev_answers.append(preprocessing(df_dev_answers.iloc[i]))"
      ]
    },
    {
      "cell_type": "markdown",
      "metadata": {
        "id": "Be2KKCD6feEc"
      },
      "source": [
        "# Data Frame preparation"
      ]
    },
    {
      "cell_type": "code",
      "execution_count": 124,
      "metadata": {
        "id": "4vwPJ9URffEU"
      },
      "outputs": [],
      "source": [
        "# convert df to list\n",
        "\n",
        "questions_training = train_questions\n",
        "answers_training = train_answers\n",
        "labels_training = df_train['Label'].values.tolist()\n",
        "\n",
        "questions_dev = dev_questions\n",
        "answers_dev = dev_answers\n",
        "labels_dev = df_dev['Label'].values.tolist()"
      ]
    },
    {
      "cell_type": "markdown",
      "metadata": {
        "id": "OL517taBgOBp"
      },
      "source": [
        "# Tokenization"
      ]
    },
    {
      "cell_type": "code",
      "execution_count": 125,
      "metadata": {
        "id": "8SRaElqsgPm5"
      },
      "outputs": [],
      "source": [
        "tokenizer = Tokenizer(num_words=vocab_size, oov_token=oov_tok)\n",
        "\n",
        "# Training-questions\n",
        "tokenizer.fit_on_texts(questions_training)\n",
        "training_questions = tokenizer.texts_to_sequences(questions_training)\n",
        "training_questions_padded = pad_sequences(training_questions, maxlen=max_length, padding=padding_type, truncating=trunc_type)\n",
        "\n",
        "# Training-answers\n",
        "tokenizer.fit_on_texts(answers_training)\n",
        "training_answers = tokenizer.texts_to_sequences(answers_training)\n",
        "training_answers_padded = pad_sequences(training_answers, maxlen=max_length, padding=padding_type, truncating=trunc_type)\n",
        "\n",
        "# Validation-questions\n",
        "tokenizer.fit_on_texts(questions_dev)\n",
        "dev_questions = tokenizer.texts_to_sequences(questions_dev)\n",
        "dev_questions_padded = pad_sequences(dev_questions, maxlen=max_length, padding=padding_type, truncating=trunc_type)\n",
        "\n",
        "# Validation-answers\n",
        "tokenizer.fit_on_texts(answers_dev)\n",
        "dev_answers = tokenizer.texts_to_sequences(answers_dev)\n",
        "dev_answers_padded = pad_sequences(dev_answers, maxlen=max_length, padding=padding_type, truncating=trunc_type)"
      ]
    },
    {
      "cell_type": "code",
      "execution_count": 126,
      "metadata": {
        "id": "pH6DcFAXhEdA"
      },
      "outputs": [],
      "source": [
        "import numpy as np\n",
        "training_questions_padded = np.array(training_questions_padded)\n",
        "training_answers_padded = np.array(training_answers_padded)\n",
        "training_labels = np.array(labels_training)\n",
        "\n",
        "dev_questions_padded = np.array(dev_questions_padded)\n",
        "dev_answers_padded = np.array(dev_answers_padded)\n",
        "dev_labels = np.array(labels_dev)"
      ]
    },
    {
      "cell_type": "markdown",
      "metadata": {
        "id": "xff9S9HpiJ8P"
      },
      "source": [
        "# Model construction"
      ]
    },
    {
      "cell_type": "code",
      "execution_count": 127,
      "metadata": {
        "id": "UIkOagGuh6j3"
      },
      "outputs": [],
      "source": [
        "from keras.layers import Input, Dense, Embedding, LSTM, Dropout, Activation, concatenate, BatchNormalization\n",
        "import tensorflow as tf\n",
        "\n",
        "# model input\n",
        "q_input = Input(shape=(max_length,))\n",
        "a_input = Input(shape=(max_length,))"
      ]
    },
    {
      "cell_type": "code",
      "execution_count": 128,
      "metadata": {
        "id": "Df8tqQ_OAhM7"
      },
      "outputs": [],
      "source": [
        "# embedding layer\n",
        "embedding_layer = Embedding(vocab_size, embedding_dim, input_length=max_length,\n",
        "          trainable=word_embeddings_trainable)\n",
        "\n",
        "# conversion into word embedding matrix\n",
        "q = embedding_layer(q_input)\n",
        "a = embedding_layer(a_input)\n",
        "\n",
        "\n",
        "# add LSTM layer, get their new representation\n",
        "q = LSTM(50, return_sequences=True)(q)\n",
        "a = LSTM(50, return_sequences=True)(a)\n",
        "\n",
        "q = LSTM(50, return_sequences=False)(q)\n",
        "a = LSTM(50, return_sequences=False)(a)\n",
        "\n",
        "# concatenate vectors for classification\n",
        "merged = concatenate([q, a])\n",
        "\n",
        "# add dense layer, and dropout, batch normalization to prevent over fitting\n",
        "merged = Dense(200, activation='relu')(merged)\n",
        "merged = Dropout(0.2)(merged)\n",
        "merged = BatchNormalization()(merged)\n",
        "\n",
        "# another layer\n",
        "merged = Dense(200, activation='relu')(merged)\n",
        "merged = Dropout(0.2)(merged)\n",
        "merged = BatchNormalization()(merged)\n",
        "\n",
        "# output layer\n",
        "output = Dense(2, activation='sigmoid')(merged)"
      ]
    },
    {
      "cell_type": "code",
      "execution_count": 129,
      "metadata": {
        "colab": {
          "base_uri": "https://localhost:8080/"
        },
        "id": "q2ST_VOREE0J",
        "outputId": "f1c7ae9a-a993-4875-87a3-4ade5c74fca2"
      },
      "outputs": [
        {
          "name": "stderr",
          "output_type": "stream",
          "text": [
            "/usr/local/lib/python3.7/dist-packages/keras/optimizer_v2/adam.py:105: UserWarning: The `lr` argument is deprecated, use `learning_rate` instead.\n",
            "  super(Adam, self).__init__(name, **kwargs)\n"
          ]
        }
      ],
      "source": [
        "model = Model([q_input, a_input], output)\n",
        "adam = tf.keras.optimizers.Adam(lr=0.001, beta_1=0.9, beta_2=0.999, epsilon=None, decay=1e-6, amsgrad=False)\n",
        "model.compile(loss='binary_crossentropy', optimizer=adam)\n"
      ]
    },
    {
      "cell_type": "code",
      "execution_count": 130,
      "metadata": {
        "id": "tpAvi08r8UEh"
      },
      "outputs": [],
      "source": [
        "y_categorical = tf.keras.utils.to_categorical(\n",
        "    labels_train, num_classes=2, dtype='float32'\n",
        ")\n",
        "\n",
        "y_categorical_dev = tf.keras.utils.to_categorical(\n",
        "    labels_dev, num_classes=2, dtype='float32'\n",
        ")\n",
        "\n",
        "validation_data=([dev_questions_padded, dev_answers_padded], y_categorical_dev)"
      ]
    },
    {
      "cell_type": "code",
      "execution_count": 131,
      "metadata": {
        "colab": {
          "base_uri": "https://localhost:8080/"
        },
        "id": "uCf_LopFEhnz",
        "outputId": "7e655f19-b48a-4997-fc51-417a30ed59e3"
      },
      "outputs": [
        {
          "name": "stdout",
          "output_type": "stream",
          "text": [
            "Starting training at 2022-07-15 12:45:22.293086\n",
            "Epoch 1/7\n",
            "636/636 [==============================] - 18s 19ms/step - loss: 0.9410 - val_loss: 0.3909\n",
            "Epoch 2/7\n",
            "636/636 [==============================] - 10s 16ms/step - loss: 0.6589 - val_loss: 0.3111\n",
            "Epoch 3/7\n",
            "636/636 [==============================] - 10s 16ms/step - loss: 0.4281 - val_loss: 0.5064\n",
            "Epoch 4/7\n",
            "636/636 [==============================] - 11s 18ms/step - loss: 0.2579 - val_loss: 0.2814\n",
            "Epoch 5/7\n",
            "636/636 [==============================] - 10s 16ms/step - loss: 0.1750 - val_loss: 0.3183\n",
            "Epoch 6/7\n",
            "636/636 [==============================] - 10s 16ms/step - loss: 0.1294 - val_loss: 0.5830\n",
            "Epoch 7/7\n",
            "636/636 [==============================] - 10s 16ms/step - loss: 0.1060 - val_loss: 0.6178\n",
            "Training ended at 2022-07-15 12:46:49.694721\n",
            "Minutes elapsed: 1.456690\n"
          ]
        }
      ],
      "source": [
        "\n",
        "print(\"Starting training at\", datetime.now())\n",
        "start_time = time.time()\n",
        "\n",
        "# start training\n",
        "history = model.fit([training_questions_padded, training_answers_padded], y_categorical, epochs=epochs, batch_size=batch_size, callbacks=callbacks,\n",
        "                          class_weight=class_weight,validation_data=validation_data)\n",
        "\n",
        "end_time = time.time()\n",
        "print(\"Training ended at\", datetime.now())\n",
        "print(\"Minutes elapsed: %f\" % ((end_time - start_time) / 60.))"
      ]
    },
    {
      "cell_type": "code",
      "execution_count": 132,
      "metadata": {
        "id": "BFj-dHphLlLB"
      },
      "outputs": [],
      "source": [
        "p = model.predict([training_questions_padded, training_answers_padded])\n",
        "y_pred = []\n",
        "for prediction in p:\n",
        "    y_pred.append(np.argmax(prediction, axis=0))"
      ]
    },
    {
      "cell_type": "code",
      "execution_count": 133,
      "metadata": {
        "colab": {
          "base_uri": "https://localhost:8080/"
        },
        "id": "5-yDsDxOLs6V",
        "outputId": "f35a0231-8d79-493f-b9de-3478289a69bd"
      },
      "outputs": [
        {
          "name": "stdout",
          "output_type": "stream",
          "text": [
            "[[18998   310]\n",
            " [    4  1035]]\n"
          ]
        }
      ],
      "source": [
        "print(confusion_matrix(y_train_predict, y_pred))"
      ]
    },
    {
      "cell_type": "code",
      "execution_count": 134,
      "metadata": {
        "colab": {
          "base_uri": "https://localhost:8080/"
        },
        "id": "tZSwj8ATLvxo",
        "outputId": "9cd01ee1-114a-4b2a-c585-7ac47165e9a0"
      },
      "outputs": [
        {
          "name": "stdout",
          "output_type": "stream",
          "text": [
            "              precision    recall  f1-score   support\n",
            "\n",
            "           0       1.00      0.98      0.99     19308\n",
            "           1       0.77      1.00      0.87      1039\n",
            "\n",
            "    accuracy                           0.98     20347\n",
            "   macro avg       0.88      0.99      0.93     20347\n",
            "weighted avg       0.99      0.98      0.99     20347\n",
            "\n"
          ]
        }
      ],
      "source": [
        "print(classification_report(y_train_predict, y_pred))"
      ]
    },
    {
      "cell_type": "code",
      "execution_count": 135,
      "metadata": {
        "colab": {
          "base_uri": "https://localhost:8080/"
        },
        "id": "YDu7JheaNivI",
        "outputId": "021d6119-75de-4bab-c4e4-0159194483a1"
      },
      "outputs": [
        {
          "name": "stdout",
          "output_type": "stream",
          "text": [
            "0.9300461486040233\n"
          ]
        }
      ],
      "source": [
        "print(f1_score(y_train, y_pred, average=\"macro\"))"
      ]
    },
    {
      "cell_type": "code",
      "execution_count": 136,
      "metadata": {
        "colab": {
          "base_uri": "https://localhost:8080/",
          "height": 295
        },
        "id": "fK9ERlmYNytR",
        "outputId": "faa98711-6a48-489d-ca80-6daac3744205"
      },
      "outputs": [
        {
          "data": {
            "image/png": "[encoded data removed]",
            "text/plain": [
              "<Figure size 432x288 with 1 Axes>"
            ]
          },
          "metadata": {
            "needs_background": "light"
          },
          "output_type": "display_data"
        }
      ],
      "source": [
        "import pandas as pd\n",
        "import tensorflow as tf\n",
        "from tensorflow import keras\n",
        "from sklearn.model_selection import train_test_split\n",
        "import numpy as np\n",
        "import matplotlib.pyplot as plt\n",
        "\n",
        "loss_train = history.history['loss']\n",
        "loss_val = history.history['val_loss']\n",
        "epochs = range(1,epochs+1)\n",
        "plt.plot(epochs, loss_train, 'g', label='Training loss')\n",
        "plt.plot(epochs, loss_val, 'b', label='validation loss')\n",
        "plt.title('Training and Validation loss')\n",
        "plt.xlabel('Epochs')\n",
        "plt.ylabel('Loss')\n",
        "plt.legend()\n",
        "plt.show()"
      ]
    },
    {
      "cell_type": "markdown",
      "metadata": {
        "id": "EXzsqP0xOihh"
      },
      "source": [
        "# Test"
      ]
    },
    {
      "cell_type": "code",
      "execution_count": 137,
      "metadata": {
        "id": "xx8VKJQ9OUPL"
      },
      "outputs": [],
      "source": [
        "p = model.predict([dev_questions_padded, dev_answers_padded])\n",
        "y_dev_pred = []\n",
        "for prediction in p:\n",
        "    y_dev_pred.append(np.argmax(prediction, axis=0))"
      ]
    },
    {
      "cell_type": "code",
      "execution_count": 138,
      "metadata": {
        "colab": {
          "base_uri": "https://localhost:8080/"
        },
        "id": "VPIhk4P4OhV2",
        "outputId": "30c5b75b-8837-46d2-8d65-5accc1a7a6e5"
      },
      "outputs": [
        {
          "name": "stdout",
          "output_type": "stream",
          "text": [
            "[[2317  276]\n",
            " [ 122   18]]\n"
          ]
        }
      ],
      "source": [
        "print(confusion_matrix(y_dev_predict, y_dev_pred))"
      ]
    },
    {
      "cell_type": "code",
      "execution_count": 139,
      "metadata": {
        "colab": {
          "base_uri": "https://localhost:8080/"
        },
        "id": "GqwgXRExOlVf",
        "outputId": "893f210d-8cd1-45e5-a670-265bdf09daad"
      },
      "outputs": [
        {
          "name": "stdout",
          "output_type": "stream",
          "text": [
            "              precision    recall  f1-score   support\n",
            "\n",
            "           0       0.95      0.89      0.92      2593\n",
            "           1       0.06      0.13      0.08       140\n",
            "\n",
            "    accuracy                           0.85      2733\n",
            "   macro avg       0.51      0.51      0.50      2733\n",
            "weighted avg       0.90      0.85      0.88      2733\n",
            "\n"
          ]
        }
      ],
      "source": [
        "print(classification_report(y_dev_predict, y_dev_pred))"
      ]
    },
    {
      "cell_type": "code",
      "execution_count": 140,
      "metadata": {
        "colab": {
          "base_uri": "https://localhost:8080/"
        },
        "id": "wnTy9VMdOssi",
        "outputId": "4c5a0386-a7e8-4e5f-9167-a194e2e65a96"
      },
      "outputs": [
        {
          "name": "stdout",
          "output_type": "stream",
          "text": [
            "0.5019277545368627\n"
          ]
        }
      ],
      "source": [
        "print(f1_score(y_dev_predict, y_dev_pred, average=\"macro\"))"
      ]
    }
  ],
  "metadata": {
    "accelerator": "GPU",
    "colab": {
      "collapsed_sections": [
        "XXoZhpFH5mR2"
      ],
      "name": "QA_RNN-Poboljsanje",
      "provenance": []
    },
    "gpuClass": "standard",
    "kernelspec": {
      "display_name": "Python 3",
      "name": "python3"
    },
    "language_info": {
      "name": "python"
    }
  },
  "nbformat": 4,
  "nbformat_minor": 0
}
