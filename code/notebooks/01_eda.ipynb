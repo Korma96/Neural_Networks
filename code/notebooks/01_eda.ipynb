{
  "nbformat": 4,
  "nbformat_minor": 0,
  "metadata": {
    "colab": {
      "name": "01_eda.ipynb",
      "provenance": [],
      "collapsed_sections": []
    },
    "kernelspec": {
      "name": "python3",
      "display_name": "Python 3"
    },
    "language_info": {
      "name": "python"
    }
  },
  "cells": [
    {
      "cell_type": "markdown",
      "source": [
        "## Setup"
      ],
      "metadata": {
        "id": "haMVH4I9jk8Y"
      }
    },
    {
      "cell_type": "markdown",
      "source": [
        "imports"
      ],
      "metadata": {
        "id": "jz_hsRibjA2e"
      }
    },
    {
      "cell_type": "code",
      "execution_count": 1,
      "metadata": {
        "id": "ztzhs_WciVD9"
      },
      "outputs": [],
      "source": [
        "import pandas as pd\n",
        "import spacy\n",
        "from tqdm import tqdm\n",
        "import numpy as np\n",
        "from collections import Counter\n",
        "import matplotlib.pyplot as plt"
      ]
    },
    {
      "cell_type": "code",
      "source": [
        "nlp = spacy.load('en_core_web_sm', disable=['parser', 'ner'])"
      ],
      "metadata": {
        "id": "OsjJTXT_rOb6"
      },
      "execution_count": 2,
      "outputs": []
    },
    {
      "cell_type": "markdown",
      "source": [
        "connect to drive"
      ],
      "metadata": {
        "id": "S6EjHQMojich"
      }
    },
    {
      "cell_type": "code",
      "source": [
        "from google.colab import drive\n",
        "drive.mount('/content/drive')"
      ],
      "metadata": {
        "colab": {
          "base_uri": "https://localhost:8080/"
        },
        "id": "hKbGDmxrjDcF",
        "outputId": "2822dcf6-bee6-4ad1-c11c-d4b513a97a60"
      },
      "execution_count": 3,
      "outputs": [
        {
          "output_type": "stream",
          "name": "stdout",
          "text": [
            "Drive already mounted at /content/drive; to attempt to forcibly remount, call drive.mount(\"/content/drive\", force_remount=True).\n"
          ]
        }
      ]
    },
    {
      "cell_type": "markdown",
      "source": [
        "load dataset"
      ],
      "metadata": {
        "id": "yl1DbJmfpBrU"
      }
    },
    {
      "cell_type": "code",
      "source": [
        "dataset_path = 'drive/MyDrive/Colab Notebooks/nn/dataset/WikiQACorpus/WikiQACorpus/WikiQA-train.tsv' # drive path\n",
        "#dataset_path = 'C:\\\\some_folder' # local path"
      ],
      "metadata": {
        "id": "Mw28sOF_jWx3"
      },
      "execution_count": 4,
      "outputs": []
    },
    {
      "cell_type": "code",
      "source": [
        "df = pd.read_csv(dataset_path, delimiter='\\t')"
      ],
      "metadata": {
        "id": "qNocbsxSjwiJ"
      },
      "execution_count": 5,
      "outputs": []
    },
    {
      "cell_type": "code",
      "source": [
        "df.head()"
      ],
      "metadata": {
        "colab": {
          "base_uri": "https://localhost:8080/",
          "height": 337
        },
        "id": "Nn7ucfUslWZk",
        "outputId": "5c7e096a-ce00-4435-cf7c-3094b2f9818f"
      },
      "execution_count": 6,
      "outputs": [
        {
          "output_type": "execute_result",
          "data": {
            "text/plain": [
              "  QuestionID                       Question DocumentID DocumentTitle  \\\n",
              "0         Q1  how are glacier caves formed?         D1  Glacier cave   \n",
              "1         Q1  how are glacier caves formed?         D1  Glacier cave   \n",
              "2         Q1  how are glacier caves formed?         D1  Glacier cave   \n",
              "3         Q1  how are glacier caves formed?         D1  Glacier cave   \n",
              "4         Q1  how are glacier caves formed?         D1  Glacier cave   \n",
              "\n",
              "  SentenceID                                           Sentence  Label  \n",
              "0       D1-0  A partly submerged glacier cave on Perito More...      0  \n",
              "1       D1-1          The ice facade is approximately 60 m high      0  \n",
              "2       D1-2          Ice formations in the Titlis glacier cave      0  \n",
              "3       D1-3  A glacier cave is a cave formed within the ice...      1  \n",
              "4       D1-4  Glacier caves are often called ice caves , but...      0  "
            ],
            "text/html": [
              "\n",
              "  <div id=\"df-9ad540c8-212c-406d-830b-e0aa6caf27ee\">\n",
              "    <div class=\"colab-df-container\">\n",
              "      <div>\n",
              "<style scoped>\n",
              "    .dataframe tbody tr th:only-of-type {\n",
              "        vertical-align: middle;\n",
              "    }\n",
              "\n",
              "    .dataframe tbody tr th {\n",
              "        vertical-align: top;\n",
              "    }\n",
              "\n",
              "    .dataframe thead th {\n",
              "        text-align: right;\n",
              "    }\n",
              "</style>\n",
              "<table border=\"1\" class=\"dataframe\">\n",
              "  <thead>\n",
              "    <tr style=\"text-align: right;\">\n",
              "      <th></th>\n",
              "      <th>QuestionID</th>\n",
              "      <th>Question</th>\n",
              "      <th>DocumentID</th>\n",
              "      <th>DocumentTitle</th>\n",
              "      <th>SentenceID</th>\n",
              "      <th>Sentence</th>\n",
              "      <th>Label</th>\n",
              "    </tr>\n",
              "  </thead>\n",
              "  <tbody>\n",
              "    <tr>\n",
              "      <th>0</th>\n",
              "      <td>Q1</td>\n",
              "      <td>how are glacier caves formed?</td>\n",
              "      <td>D1</td>\n",
              "      <td>Glacier cave</td>\n",
              "      <td>D1-0</td>\n",
              "      <td>A partly submerged glacier cave on Perito More...</td>\n",
              "      <td>0</td>\n",
              "    </tr>\n",
              "    <tr>\n",
              "      <th>1</th>\n",
              "      <td>Q1</td>\n",
              "      <td>how are glacier caves formed?</td>\n",
              "      <td>D1</td>\n",
              "      <td>Glacier cave</td>\n",
              "      <td>D1-1</td>\n",
              "      <td>The ice facade is approximately 60 m high</td>\n",
              "      <td>0</td>\n",
              "    </tr>\n",
              "    <tr>\n",
              "      <th>2</th>\n",
              "      <td>Q1</td>\n",
              "      <td>how are glacier caves formed?</td>\n",
              "      <td>D1</td>\n",
              "      <td>Glacier cave</td>\n",
              "      <td>D1-2</td>\n",
              "      <td>Ice formations in the Titlis glacier cave</td>\n",
              "      <td>0</td>\n",
              "    </tr>\n",
              "    <tr>\n",
              "      <th>3</th>\n",
              "      <td>Q1</td>\n",
              "      <td>how are glacier caves formed?</td>\n",
              "      <td>D1</td>\n",
              "      <td>Glacier cave</td>\n",
              "      <td>D1-3</td>\n",
              "      <td>A glacier cave is a cave formed within the ice...</td>\n",
              "      <td>1</td>\n",
              "    </tr>\n",
              "    <tr>\n",
              "      <th>4</th>\n",
              "      <td>Q1</td>\n",
              "      <td>how are glacier caves formed?</td>\n",
              "      <td>D1</td>\n",
              "      <td>Glacier cave</td>\n",
              "      <td>D1-4</td>\n",
              "      <td>Glacier caves are often called ice caves , but...</td>\n",
              "      <td>0</td>\n",
              "    </tr>\n",
              "  </tbody>\n",
              "</table>\n",
              "</div>\n",
              "      <button class=\"colab-df-convert\" onclick=\"convertToInteractive('df-9ad540c8-212c-406d-830b-e0aa6caf27ee')\"\n",
              "              title=\"Convert this dataframe to an interactive table.\"\n",
              "              style=\"display:none;\">\n",
              "        \n",
              "  <svg xmlns=\"http://www.w3.org/2000/svg\" height=\"24px\"viewBox=\"0 0 24 24\"\n",
              "       width=\"24px\">\n",
              "    <path d=\"M0 0h24v24H0V0z\" fill=\"none\"/>\n",
              "    <path d=\"M18.56 5.44l.94 2.06.94-2.06 2.06-.94-2.06-.94-.94-2.06-.94 2.06-2.06.94zm-11 1L8.5 8.5l.94-2.06 2.06-.94-2.06-.94L8.5 2.5l-.94 2.06-2.06.94zm10 10l.94 2.06.94-2.06 2.06-.94-2.06-.94-.94-2.06-.94 2.06-2.06.94z\"/><path d=\"M17.41 7.96l-1.37-1.37c-.4-.4-.92-.59-1.43-.59-.52 0-1.04.2-1.43.59L10.3 9.45l-7.72 7.72c-.78.78-.78 2.05 0 2.83L4 21.41c.39.39.9.59 1.41.59.51 0 1.02-.2 1.41-.59l7.78-7.78 2.81-2.81c.8-.78.8-2.07 0-2.86zM5.41 20L4 18.59l7.72-7.72 1.47 1.35L5.41 20z\"/>\n",
              "  </svg>\n",
              "      </button>\n",
              "      \n",
              "  <style>\n",
              "    .colab-df-container {\n",
              "      display:flex;\n",
              "      flex-wrap:wrap;\n",
              "      gap: 12px;\n",
              "    }\n",
              "\n",
              "    .colab-df-convert {\n",
              "      background-color: #E8F0FE;\n",
              "      border: none;\n",
              "      border-radius: 50%;\n",
              "      cursor: pointer;\n",
              "      display: none;\n",
              "      fill: #1967D2;\n",
              "      height: 32px;\n",
              "      padding: 0 0 0 0;\n",
              "      width: 32px;\n",
              "    }\n",
              "\n",
              "    .colab-df-convert:hover {\n",
              "      background-color: #E2EBFA;\n",
              "      box-shadow: 0px 1px 2px rgba(60, 64, 67, 0.3), 0px 1px 3px 1px rgba(60, 64, 67, 0.15);\n",
              "      fill: #174EA6;\n",
              "    }\n",
              "\n",
              "    [theme=dark] .colab-df-convert {\n",
              "      background-color: #3B4455;\n",
              "      fill: #D2E3FC;\n",
              "    }\n",
              "\n",
              "    [theme=dark] .colab-df-convert:hover {\n",
              "      background-color: #434B5C;\n",
              "      box-shadow: 0px 1px 3px 1px rgba(0, 0, 0, 0.15);\n",
              "      filter: drop-shadow(0px 1px 2px rgba(0, 0, 0, 0.3));\n",
              "      fill: #FFFFFF;\n",
              "    }\n",
              "  </style>\n",
              "\n",
              "      <script>\n",
              "        const buttonEl =\n",
              "          document.querySelector('#df-9ad540c8-212c-406d-830b-e0aa6caf27ee button.colab-df-convert');\n",
              "        buttonEl.style.display =\n",
              "          google.colab.kernel.accessAllowed ? 'block' : 'none';\n",
              "\n",
              "        async function convertToInteractive(key) {\n",
              "          const element = document.querySelector('#df-9ad540c8-212c-406d-830b-e0aa6caf27ee');\n",
              "          const dataTable =\n",
              "            await google.colab.kernel.invokeFunction('convertToInteractive',\n",
              "                                                     [key], {});\n",
              "          if (!dataTable) return;\n",
              "\n",
              "          const docLinkHtml = 'Like what you see? Visit the ' +\n",
              "            '<a target=\"_blank\" href=https://colab.research.google.com/notebooks/data_table.ipynb>data table notebook</a>'\n",
              "            + ' to learn more about interactive tables.';\n",
              "          element.innerHTML = '';\n",
              "          dataTable['output_type'] = 'display_data';\n",
              "          await google.colab.output.renderOutput(dataTable, element);\n",
              "          const docLink = document.createElement('div');\n",
              "          docLink.innerHTML = docLinkHtml;\n",
              "          element.appendChild(docLink);\n",
              "        }\n",
              "      </script>\n",
              "    </div>\n",
              "  </div>\n",
              "  "
            ]
          },
          "metadata": {},
          "execution_count": 6
        }
      ]
    },
    {
      "cell_type": "markdown",
      "source": [
        "## Analyze"
      ],
      "metadata": {
        "id": "QJooBvoXjrD5"
      }
    },
    {
      "cell_type": "markdown",
      "source": [
        "### Counts"
      ],
      "metadata": {
        "id": "FshAGyo8qUB5"
      }
    },
    {
      "cell_type": "code",
      "source": [
        "# number of pairs\n",
        "len(df)"
      ],
      "metadata": {
        "colab": {
          "base_uri": "https://localhost:8080/"
        },
        "id": "_JuBx8u3jsz7",
        "outputId": "53c5c172-94cb-46b4-9d85-679c802d8cb9"
      },
      "execution_count": 7,
      "outputs": [
        {
          "output_type": "execute_result",
          "data": {
            "text/plain": [
              "20355"
            ]
          },
          "metadata": {},
          "execution_count": 7
        }
      ]
    },
    {
      "cell_type": "code",
      "source": [
        "# no of positive and negative examples \n",
        "df['Label'].value_counts()"
      ],
      "metadata": {
        "colab": {
          "base_uri": "https://localhost:8080/"
        },
        "id": "lXZPtNZEoJG1",
        "outputId": "f624fbdc-3d20-4045-f0a0-8a43a8c091c8"
      },
      "execution_count": 8,
      "outputs": [
        {
          "output_type": "execute_result",
          "data": {
            "text/plain": [
              "0    19315\n",
              "1     1040\n",
              "Name: Label, dtype: int64"
            ]
          },
          "metadata": {},
          "execution_count": 8
        }
      ]
    },
    {
      "cell_type": "code",
      "source": [
        "# find duplicate pairs of question - sentence => two duplicates found, can be ignored\n",
        "df[['Question', 'Sentence']].value_counts()"
      ],
      "metadata": {
        "colab": {
          "base_uri": "https://localhost:8080/"
        },
        "id": "odHyJGR1lcsi",
        "outputId": "ad35bf94-d172-4551-9bc8-d309b5523f7f"
      },
      "execution_count": 9,
      "outputs": [
        {
          "output_type": "execute_result",
          "data": {
            "text/plain": [
              "Question                                                Sentence                                                                                                                                                                                                                                                                                \n",
              "what are sanuks made of                                 right                                                                                                                                                                                                                                                                                       2\n",
              "who starred in the drama emergency                      Emergency!                                                                                                                                                                                                                                                                                  2\n",
              "what role do ombudsman play in the swedish government?  An ombudsman is an official, usually appointed by the government or by parliament but with a significant degree of independence, who is charged with representing the interests of the public by investigating and addressing complaints of maladministration or violation of rights.       1\n",
              "                                                        Making a complaint to an ombudsman is usually free of charge.                                                                                                                                                                                                                               1\n",
              "                                                        In some jurisdictions an ombudsman charged with the handling of concerns about national government is more formally referred to as the \"Parliamentary Commissioner\" (e.g. the United Kingdom Parliamentary Commissioner for Administration, and the Western Australian state Ombudsman).    1\n",
              "                                                                                                                                                                                                                                                                                                                                                   ..\n",
              "what branch of army was dwight d eisenhower in          In 1951, he became the first supreme commander of NATO .                                                                                                                                                                                                                                    1\n",
              "                                                        His New Look policy of nuclear deterrence gave priority to inexpensive nuclear weapons while reducing the funding for conventional military forces; the goal was to keep pressure on the Soviet Union and reduce federal deficits.                                                          1\n",
              "                                                        He won by a landslide, defeating Democrat Adlai Stevenson and ending two decades of the New Deal Coalition .                                                                                                                                                                                1\n",
              "                                                        He was the first term-limited president in accordance with the 22nd Amendment .                                                                                                                                                                                                             1\n",
              "who wrote white christmas                               thumb                                                                                                                                                                                                                                                                                       1\n",
              "Length: 20353, dtype: int64"
            ]
          },
          "metadata": {},
          "execution_count": 9
        }
      ]
    },
    {
      "cell_type": "code",
      "source": [
        "# no of unique questions\n",
        "len(df['Question'].unique())"
      ],
      "metadata": {
        "colab": {
          "base_uri": "https://localhost:8080/"
        },
        "id": "J94ochdfmBlJ",
        "outputId": "ebf733de-11a7-4a00-cd6b-7077165059cb"
      },
      "execution_count": 10,
      "outputs": [
        {
          "output_type": "execute_result",
          "data": {
            "text/plain": [
              "2118"
            ]
          },
          "metadata": {},
          "execution_count": 10
        }
      ]
    },
    {
      "cell_type": "code",
      "source": [
        "# no of unique question ids => same as no of unique questions\n",
        "len(df['QuestionID'].unique())"
      ],
      "metadata": {
        "colab": {
          "base_uri": "https://localhost:8080/"
        },
        "id": "1z5qp1aHmTab",
        "outputId": "b6a1f02e-9b3f-480d-e3e6-c9dde63bfefd"
      },
      "execution_count": 11,
      "outputs": [
        {
          "output_type": "execute_result",
          "data": {
            "text/plain": [
              "2118"
            ]
          },
          "metadata": {},
          "execution_count": 11
        }
      ]
    },
    {
      "cell_type": "code",
      "source": [
        "# no of unique sentences\n",
        "len(df['Sentence'].unique())"
      ],
      "metadata": {
        "colab": {
          "base_uri": "https://localhost:8080/"
        },
        "id": "DgirtTnvmKXv",
        "outputId": "f46c33dd-cbc9-42e5-e52f-17f05e1d36f2"
      },
      "execution_count": 12,
      "outputs": [
        {
          "output_type": "execute_result",
          "data": {
            "text/plain": [
              "18816"
            ]
          },
          "metadata": {},
          "execution_count": 12
        }
      ]
    },
    {
      "cell_type": "code",
      "source": [
        "# no of unique sentence ids\n",
        "len(df['SentenceID'].unique())"
      ],
      "metadata": {
        "colab": {
          "base_uri": "https://localhost:8080/"
        },
        "id": "ipF0B9pUmYtM",
        "outputId": "c267eeee-c1f7-46b8-cd36-65fea88f90fa"
      },
      "execution_count": 13,
      "outputs": [
        {
          "output_type": "execute_result",
          "data": {
            "text/plain": [
              "18836"
            ]
          },
          "metadata": {},
          "execution_count": 13
        }
      ]
    },
    {
      "cell_type": "code",
      "source": [
        "# no sentences with different id but same content\n",
        "len(df['SentenceID'].unique()) - len(df['Sentence'].unique())"
      ],
      "metadata": {
        "colab": {
          "base_uri": "https://localhost:8080/"
        },
        "id": "D64dJenbmrKc",
        "outputId": "c79f0745-88fb-49f8-8cfc-3c0626062c98"
      },
      "execution_count": 14,
      "outputs": [
        {
          "output_type": "execute_result",
          "data": {
            "text/plain": [
              "20"
            ]
          },
          "metadata": {},
          "execution_count": 14
        }
      ]
    },
    {
      "cell_type": "code",
      "source": [
        "# show duplicate sentences\n",
        "df['Sentence'].value_counts()"
      ],
      "metadata": {
        "colab": {
          "base_uri": "https://localhost:8080/"
        },
        "id": "JK9uF8zlmvIU",
        "outputId": "f02addee-aa04-48bd-80a4-5224184ba2ca"
      },
      "execution_count": 15,
      "outputs": [
        {
          "output_type": "execute_result",
          "data": {
            "text/plain": [
              "The defending Confederate army failed, leading to Lee's surrender to Grant at Appomattox Court House on April 9, 1865.                                                                                                                                                                                                                                                                        6\n",
              "Eight remaining slave states continued to reject calls for secession.                                                                                                                                                                                                                                                                                                                         6\n",
              "The Union marshaled the resources and manpower to attack the Confederacy from all directions, and could afford to fight battles of attrition through the Overland Campaign towards Richmond, the Confederate capital.                                                                                                                                                                         6\n",
              "The American Civil War was one of the earliest true industrial wars .                                                                                                                                                                                                                                                                                                                         6\n",
              "Railroads, the telegraph, steamships, and mass-produced weapons were employed extensively.                                                                                                                                                                                                                                                                                                    6\n",
              "                                                                                                                                                                                                                                                                                                                                                                                             ..\n",
              "The procedure for amending the United States Constitution is governed by Article V of the original text .                                                                                                                                                                                                                                                                                     1\n",
              "There have been many other proposals for amendments to the United States Constitution introduced in Congress, but not submitted to the states.                                                                                                                                                                                                                                                1\n",
              "Before an amendment can take effect, it must be proposed to the states by a two-thirds vote of both houses of Congress or by a convention (known as an Article V convention ) called by two-thirds of the states, and ratified by three-fourths of the states or by three-fourths of conventions thereof, the method of ratification being determined by Congress at the time of proposal.    1\n",
              "To date, no convention for proposing amendments has been called by the states, and only once—in 1933 for the ratification of the twenty-first amendment —has the convention method of ratification been employed.                                                                                                                                                                             1\n",
              "The history of the United States dollar covers more than 200 years.                                                                                                                                                                                                                                                                                                                           1\n",
              "Name: Sentence, Length: 18816, dtype: int64"
            ]
          },
          "metadata": {},
          "execution_count": 15
        }
      ]
    },
    {
      "cell_type": "code",
      "source": [
        "# show duplicate pairs of sentence and sentence id\n",
        "df[['SentenceID', 'Sentence']].value_counts()"
      ],
      "metadata": {
        "colab": {
          "base_uri": "https://localhost:8080/"
        },
        "id": "-JxKt31PnSOg",
        "outputId": "4b8df7d1-bacf-45eb-c0ad-464bdb521b97"
      },
      "execution_count": 16,
      "outputs": [
        {
          "output_type": "execute_result",
          "data": {
            "text/plain": [
              "SentenceID  Sentence                                                                                                                                                                                                                                                                                          \n",
              "D359-17     Lincoln issued the Emancipation Proclamation , which made ending slavery a war goal.                                                                                                                                                                                                                  6\n",
              "D359-1      The war had its origin in the issue of slavery , especially the extension of slavery into the western territories.                                                                                                                                                                                    6\n",
              "D359-5      Lincoln won, but before his inauguration on March 4, 1861, seven cotton-based slave states formed the Confederacy.                                                                                                                                                                                    6\n",
              "D359-4      In the 1860 presidential election , Republicans, led by Abraham Lincoln , opposed expanding slavery into United States' territories .                                                                                                                                                                 6\n",
              "D359-3      After four years of bloody combat that left over 600,000 soldiers dead and destroyed much of the South's infrastructure, the Confederacy collapsed, slavery was abolished, and the difficult Reconstruction process of restoring national unity and guaranteeing rights to the freed slaves began.    6\n",
              "                                                                                                                                                                                                                                                                                                                 ..\n",
              "D1898-4     Later sociologists such as Dennis Gilbert of Hamilton College commonly divide the middle class into two sub-groups.                                                                                                                                                                                   1\n",
              "D1898-5     Constituting roughly 15% to 20% of households is the upper or professional middle class consisting of highly educated, salaried professionals and managers.                                                                                                                                           1\n",
              "D1898-6     Constituting roughly one third of households is the lower middle class consisting mostly of semi-professionals, skilled craftsmen and lower-level management.                                                                                                                                         1\n",
              "D1898-7     Middle-class persons commonly have a comfortable standard of living, significant economic security, considerable work autonomy and rely on their expertise to sustain themselves.                                                                                                                     1\n",
              "D999-4      Agency debt is also called an agency security.                                                                                                                                                                                                                                                        1\n",
              "Length: 18836, dtype: int64"
            ]
          },
          "metadata": {},
          "execution_count": 16
        }
      ]
    },
    {
      "cell_type": "code",
      "source": [
        "# show no of candidate answers per single question  \n",
        "temp_df = pd.DataFrame(df['Question'].value_counts())\n",
        "temp_df = temp_df.reset_index()\n",
        "temp_df.columns = ['question', 'count']\n",
        "\n",
        "plt.hist(temp_df['count'], bins=30)\n",
        "plt.xlabel('no candidate answers per question')\n",
        "plt.ylabel('count')\n",
        "plt.show()"
      ],
      "metadata": {
        "colab": {
          "base_uri": "https://localhost:8080/",
          "height": 279
        },
        "id": "gpAMElVGxP4C",
        "outputId": "c635bc66-a089-49fe-a54a-961e8ef72950"
      },
      "execution_count": 17,
      "outputs": [
        {
          "output_type": "display_data",
          "data": {
            "text/plain": [
              "<Figure size 432x288 with 1 Axes>"
            ],
            "image/png": "[encoded data removed]"
          },
          "metadata": {
            "needs_background": "light"
          }
        }
      ]
    },
    {
      "cell_type": "code",
      "source": [
        "# show no of valid answers per single question  \n",
        "temp_df = pd.DataFrame(df[df['Label'] == 1]['Question'].value_counts())\n",
        "temp_df = temp_df.reset_index()\n",
        "temp_df.columns = ['question', 'count']\n",
        "\n",
        "plt.hist(temp_df['count'], bins=30)\n",
        "plt.xlabel('no valid answers per question')\n",
        "plt.ylabel('count')\n",
        "plt.show()"
      ],
      "metadata": {
        "colab": {
          "base_uri": "https://localhost:8080/",
          "height": 279
        },
        "id": "5BgfOn46lbhL",
        "outputId": "c58e2282-4696-461b-8444-3b066d009410"
      },
      "execution_count": 18,
      "outputs": [
        {
          "output_type": "display_data",
          "data": {
            "text/plain": [
              "<Figure size 432x288 with 1 Axes>"
            ],
            "image/png": "[encoded data removed]"
          },
          "metadata": {
            "needs_background": "light"
          }
        }
      ]
    },
    {
      "cell_type": "code",
      "source": [
        "# show no of valid answers > 1 per single question  \n",
        "temp_df = pd.DataFrame(df[df['Label'] == 1]['Question'].value_counts())\n",
        "temp_df = temp_df.reset_index()\n",
        "temp_df.columns = ['question', 'count']\n",
        "temp_df = temp_df[temp_df['count'] > 1]\n",
        "\n",
        "plt.hist(temp_df['count'], bins=30)\n",
        "plt.xlabel('no valid answers > 1 per question')\n",
        "plt.ylabel('count')\n",
        "plt.show()"
      ],
      "metadata": {
        "colab": {
          "base_uri": "https://localhost:8080/",
          "height": 279
        },
        "id": "7iIemhpCmCmj",
        "outputId": "9154b208-3891-4e8e-8720-5dbc57529510"
      },
      "execution_count": 19,
      "outputs": [
        {
          "output_type": "display_data",
          "data": {
            "text/plain": [
              "<Figure size 432x288 with 1 Axes>"
            ],
            "image/png": "[encoded data removed]"
          },
          "metadata": {
            "needs_background": "light"
          }
        }
      ]
    },
    {
      "cell_type": "code",
      "source": [
        "# show no of invalid answers per single question  \n",
        "temp_df = pd.DataFrame(df[df['Label'] == 0]['Question'].value_counts())\n",
        "temp_df = temp_df.reset_index()\n",
        "temp_df.columns = ['question', 'count']\n",
        "\n",
        "plt.hist(temp_df['count'], bins=30)\n",
        "plt.xlabel('no invalid answers per question')\n",
        "plt.ylabel('count')\n",
        "plt.show()"
      ],
      "metadata": {
        "colab": {
          "base_uri": "https://localhost:8080/",
          "height": 279
        },
        "id": "eFGwrKkilcVd",
        "outputId": "92da066a-fd24-4025-c745-e158a09e57bf"
      },
      "execution_count": 20,
      "outputs": [
        {
          "output_type": "display_data",
          "data": {
            "text/plain": [
              "<Figure size 432x288 with 1 Axes>"
            ],
            "image/png": "[encoded data removed]"
          },
          "metadata": {
            "needs_background": "light"
          }
        }
      ]
    },
    {
      "cell_type": "markdown",
      "source": [
        "Show questions with multiple answers"
      ],
      "metadata": {
        "id": "dtKm-kQfJ9DB"
      }
    },
    {
      "cell_type": "code",
      "source": [
        "df['Label'] = pd.to_numeric(df['Label'])"
      ],
      "metadata": {
        "id": "kK001mTILiqB"
      },
      "execution_count": 21,
      "outputs": []
    },
    {
      "cell_type": "code",
      "source": [
        "df[['QuestionID', 'Label']].groupby('QuestionID').agg([np.sum]).sort_values(by=[(\"Label\", \"sum\")], ascending=False).head()"
      ],
      "metadata": {
        "colab": {
          "base_uri": "https://localhost:8080/",
          "height": 269
        },
        "id": "53bE-ChCJ8nQ",
        "outputId": "cd450e16-3478-458e-cb4f-7b223da860be"
      },
      "execution_count": 22,
      "outputs": [
        {
          "output_type": "execute_result",
          "data": {
            "text/plain": [
              "           Label\n",
              "             sum\n",
              "QuestionID      \n",
              "Q141           7\n",
              "Q1075          7\n",
              "Q1748          6\n",
              "Q178           5\n",
              "Q902           4"
            ],
            "text/html": [
              "\n",
              "  <div id=\"df-0ab1cb51-20cc-49a2-ad62-691245193c79\">\n",
              "    <div class=\"colab-df-container\">\n",
              "      <div>\n",
              "<style scoped>\n",
              "    .dataframe tbody tr th:only-of-type {\n",
              "        vertical-align: middle;\n",
              "    }\n",
              "\n",
              "    .dataframe tbody tr th {\n",
              "        vertical-align: top;\n",
              "    }\n",
              "\n",
              "    .dataframe thead tr th {\n",
              "        text-align: left;\n",
              "    }\n",
              "\n",
              "    .dataframe thead tr:last-of-type th {\n",
              "        text-align: right;\n",
              "    }\n",
              "</style>\n",
              "<table border=\"1\" class=\"dataframe\">\n",
              "  <thead>\n",
              "    <tr>\n",
              "      <th></th>\n",
              "      <th>Label</th>\n",
              "    </tr>\n",
              "    <tr>\n",
              "      <th></th>\n",
              "      <th>sum</th>\n",
              "    </tr>\n",
              "    <tr>\n",
              "      <th>QuestionID</th>\n",
              "      <th></th>\n",
              "    </tr>\n",
              "  </thead>\n",
              "  <tbody>\n",
              "    <tr>\n",
              "      <th>Q141</th>\n",
              "      <td>7</td>\n",
              "    </tr>\n",
              "    <tr>\n",
              "      <th>Q1075</th>\n",
              "      <td>7</td>\n",
              "    </tr>\n",
              "    <tr>\n",
              "      <th>Q1748</th>\n",
              "      <td>6</td>\n",
              "    </tr>\n",
              "    <tr>\n",
              "      <th>Q178</th>\n",
              "      <td>5</td>\n",
              "    </tr>\n",
              "    <tr>\n",
              "      <th>Q902</th>\n",
              "      <td>4</td>\n",
              "    </tr>\n",
              "  </tbody>\n",
              "</table>\n",
              "</div>\n",
              "      <button class=\"colab-df-convert\" onclick=\"convertToInteractive('df-0ab1cb51-20cc-49a2-ad62-691245193c79')\"\n",
              "              title=\"Convert this dataframe to an interactive table.\"\n",
              "              style=\"display:none;\">\n",
              "        \n",
              "  <svg xmlns=\"http://www.w3.org/2000/svg\" height=\"24px\"viewBox=\"0 0 24 24\"\n",
              "       width=\"24px\">\n",
              "    <path d=\"M0 0h24v24H0V0z\" fill=\"none\"/>\n",
              "    <path d=\"M18.56 5.44l.94 2.06.94-2.06 2.06-.94-2.06-.94-.94-2.06-.94 2.06-2.06.94zm-11 1L8.5 8.5l.94-2.06 2.06-.94-2.06-.94L8.5 2.5l-.94 2.06-2.06.94zm10 10l.94 2.06.94-2.06 2.06-.94-2.06-.94-.94-2.06-.94 2.06-2.06.94z\"/><path d=\"M17.41 7.96l-1.37-1.37c-.4-.4-.92-.59-1.43-.59-.52 0-1.04.2-1.43.59L10.3 9.45l-7.72 7.72c-.78.78-.78 2.05 0 2.83L4 21.41c.39.39.9.59 1.41.59.51 0 1.02-.2 1.41-.59l7.78-7.78 2.81-2.81c.8-.78.8-2.07 0-2.86zM5.41 20L4 18.59l7.72-7.72 1.47 1.35L5.41 20z\"/>\n",
              "  </svg>\n",
              "      </button>\n",
              "      \n",
              "  <style>\n",
              "    .colab-df-container {\n",
              "      display:flex;\n",
              "      flex-wrap:wrap;\n",
              "      gap: 12px;\n",
              "    }\n",
              "\n",
              "    .colab-df-convert {\n",
              "      background-color: #E8F0FE;\n",
              "      border: none;\n",
              "      border-radius: 50%;\n",
              "      cursor: pointer;\n",
              "      display: none;\n",
              "      fill: #1967D2;\n",
              "      height: 32px;\n",
              "      padding: 0 0 0 0;\n",
              "      width: 32px;\n",
              "    }\n",
              "\n",
              "    .colab-df-convert:hover {\n",
              "      background-color: #E2EBFA;\n",
              "      box-shadow: 0px 1px 2px rgba(60, 64, 67, 0.3), 0px 1px 3px 1px rgba(60, 64, 67, 0.15);\n",
              "      fill: #174EA6;\n",
              "    }\n",
              "\n",
              "    [theme=dark] .colab-df-convert {\n",
              "      background-color: #3B4455;\n",
              "      fill: #D2E3FC;\n",
              "    }\n",
              "\n",
              "    [theme=dark] .colab-df-convert:hover {\n",
              "      background-color: #434B5C;\n",
              "      box-shadow: 0px 1px 3px 1px rgba(0, 0, 0, 0.15);\n",
              "      filter: drop-shadow(0px 1px 2px rgba(0, 0, 0, 0.3));\n",
              "      fill: #FFFFFF;\n",
              "    }\n",
              "  </style>\n",
              "\n",
              "      <script>\n",
              "        const buttonEl =\n",
              "          document.querySelector('#df-0ab1cb51-20cc-49a2-ad62-691245193c79 button.colab-df-convert');\n",
              "        buttonEl.style.display =\n",
              "          google.colab.kernel.accessAllowed ? 'block' : 'none';\n",
              "\n",
              "        async function convertToInteractive(key) {\n",
              "          const element = document.querySelector('#df-0ab1cb51-20cc-49a2-ad62-691245193c79');\n",
              "          const dataTable =\n",
              "            await google.colab.kernel.invokeFunction('convertToInteractive',\n",
              "                                                     [key], {});\n",
              "          if (!dataTable) return;\n",
              "\n",
              "          const docLinkHtml = 'Like what you see? Visit the ' +\n",
              "            '<a target=\"_blank\" href=https://colab.research.google.com/notebooks/data_table.ipynb>data table notebook</a>'\n",
              "            + ' to learn more about interactive tables.';\n",
              "          element.innerHTML = '';\n",
              "          dataTable['output_type'] = 'display_data';\n",
              "          await google.colab.output.renderOutput(dataTable, element);\n",
              "          const docLink = document.createElement('div');\n",
              "          docLink.innerHTML = docLinkHtml;\n",
              "          element.appendChild(docLink);\n",
              "        }\n",
              "      </script>\n",
              "    </div>\n",
              "  </div>\n",
              "  "
            ]
          },
          "metadata": {},
          "execution_count": 22
        }
      ]
    },
    {
      "cell_type": "code",
      "source": [
        "df[df['QuestionID'] == 'Q141'][['QuestionID', 'Question', 'Sentence', 'Label']]"
      ],
      "metadata": {
        "colab": {
          "base_uri": "https://localhost:8080/",
          "height": 457
        },
        "id": "2o5ezrR0MXRl",
        "outputId": "f088622a-c8bc-4840-d994-cd9bd45cdc0f"
      },
      "execution_count": 23,
      "outputs": [
        {
          "output_type": "execute_result",
          "data": {
            "text/plain": [
              "     QuestionID                       Question  \\\n",
              "1077       Q141  what composer used sound mass   \n",
              "1078       Q141  what composer used sound mass   \n",
              "1079       Q141  what composer used sound mass   \n",
              "1080       Q141  what composer used sound mass   \n",
              "1081       Q141  what composer used sound mass   \n",
              "1082       Q141  what composer used sound mass   \n",
              "1083       Q141  what composer used sound mass   \n",
              "1084       Q141  what composer used sound mass   \n",
              "1085       Q141  what composer used sound mass   \n",
              "1086       Q141  what composer used sound mass   \n",
              "1087       Q141  what composer used sound mass   \n",
              "1088       Q141  what composer used sound mass   \n",
              "1089       Q141  what composer used sound mass   \n",
              "\n",
              "                                               Sentence  Label  \n",
              "1077  A texture may be arranged so as to, \"closely a...      0  \n",
              "1078  In contrast to more traditional musical textur...      0  \n",
              "1079  Developed from the modernist tone clusters and...      0  \n",
              "1080  Techniques which may create or be used with so...      0  \n",
              "1081  Composers and works include Barbara Kolb , Pau...      1  \n",
              "1082  Beecroft \"blurs individual pitches in favor of...      0  \n",
              "1083                                             (ibid)      0  \n",
              "1084  A very early example is the opening of Jean-Fé...      1  \n",
              "1085  A later example is the third movement of Ruth ...      1  \n",
              "1086  The use of \"chords approaching timbres\" begins...      1  \n",
              "1087  Other examples include European \"textural\" com...      1  \n",
              "1088  Other composers with works using this techniqu...      1  \n",
              "1089  Sound mass techniques also appear in the music...      1  "
            ],
            "text/html": [
              "\n",
              "  <div id=\"df-2c06cbc6-2c56-4b79-97f1-4cc4e435a6e6\">\n",
              "    <div class=\"colab-df-container\">\n",
              "      <div>\n",
              "<style scoped>\n",
              "    .dataframe tbody tr th:only-of-type {\n",
              "        vertical-align: middle;\n",
              "    }\n",
              "\n",
              "    .dataframe tbody tr th {\n",
              "        vertical-align: top;\n",
              "    }\n",
              "\n",
              "    .dataframe thead th {\n",
              "        text-align: right;\n",
              "    }\n",
              "</style>\n",
              "<table border=\"1\" class=\"dataframe\">\n",
              "  <thead>\n",
              "    <tr style=\"text-align: right;\">\n",
              "      <th></th>\n",
              "      <th>QuestionID</th>\n",
              "      <th>Question</th>\n",
              "      <th>Sentence</th>\n",
              "      <th>Label</th>\n",
              "    </tr>\n",
              "  </thead>\n",
              "  <tbody>\n",
              "    <tr>\n",
              "      <th>1077</th>\n",
              "      <td>Q141</td>\n",
              "      <td>what composer used sound mass</td>\n",
              "      <td>A texture may be arranged so as to, \"closely a...</td>\n",
              "      <td>0</td>\n",
              "    </tr>\n",
              "    <tr>\n",
              "      <th>1078</th>\n",
              "      <td>Q141</td>\n",
              "      <td>what composer used sound mass</td>\n",
              "      <td>In contrast to more traditional musical textur...</td>\n",
              "      <td>0</td>\n",
              "    </tr>\n",
              "    <tr>\n",
              "      <th>1079</th>\n",
              "      <td>Q141</td>\n",
              "      <td>what composer used sound mass</td>\n",
              "      <td>Developed from the modernist tone clusters and...</td>\n",
              "      <td>0</td>\n",
              "    </tr>\n",
              "    <tr>\n",
              "      <th>1080</th>\n",
              "      <td>Q141</td>\n",
              "      <td>what composer used sound mass</td>\n",
              "      <td>Techniques which may create or be used with so...</td>\n",
              "      <td>0</td>\n",
              "    </tr>\n",
              "    <tr>\n",
              "      <th>1081</th>\n",
              "      <td>Q141</td>\n",
              "      <td>what composer used sound mass</td>\n",
              "      <td>Composers and works include Barbara Kolb , Pau...</td>\n",
              "      <td>1</td>\n",
              "    </tr>\n",
              "    <tr>\n",
              "      <th>1082</th>\n",
              "      <td>Q141</td>\n",
              "      <td>what composer used sound mass</td>\n",
              "      <td>Beecroft \"blurs individual pitches in favor of...</td>\n",
              "      <td>0</td>\n",
              "    </tr>\n",
              "    <tr>\n",
              "      <th>1083</th>\n",
              "      <td>Q141</td>\n",
              "      <td>what composer used sound mass</td>\n",
              "      <td>(ibid)</td>\n",
              "      <td>0</td>\n",
              "    </tr>\n",
              "    <tr>\n",
              "      <th>1084</th>\n",
              "      <td>Q141</td>\n",
              "      <td>what composer used sound mass</td>\n",
              "      <td>A very early example is the opening of Jean-Fé...</td>\n",
              "      <td>1</td>\n",
              "    </tr>\n",
              "    <tr>\n",
              "      <th>1085</th>\n",
              "      <td>Q141</td>\n",
              "      <td>what composer used sound mass</td>\n",
              "      <td>A later example is the third movement of Ruth ...</td>\n",
              "      <td>1</td>\n",
              "    </tr>\n",
              "    <tr>\n",
              "      <th>1086</th>\n",
              "      <td>Q141</td>\n",
              "      <td>what composer used sound mass</td>\n",
              "      <td>The use of \"chords approaching timbres\" begins...</td>\n",
              "      <td>1</td>\n",
              "    </tr>\n",
              "    <tr>\n",
              "      <th>1087</th>\n",
              "      <td>Q141</td>\n",
              "      <td>what composer used sound mass</td>\n",
              "      <td>Other examples include European \"textural\" com...</td>\n",
              "      <td>1</td>\n",
              "    </tr>\n",
              "    <tr>\n",
              "      <th>1088</th>\n",
              "      <td>Q141</td>\n",
              "      <td>what composer used sound mass</td>\n",
              "      <td>Other composers with works using this techniqu...</td>\n",
              "      <td>1</td>\n",
              "    </tr>\n",
              "    <tr>\n",
              "      <th>1089</th>\n",
              "      <td>Q141</td>\n",
              "      <td>what composer used sound mass</td>\n",
              "      <td>Sound mass techniques also appear in the music...</td>\n",
              "      <td>1</td>\n",
              "    </tr>\n",
              "  </tbody>\n",
              "</table>\n",
              "</div>\n",
              "      <button class=\"colab-df-convert\" onclick=\"convertToInteractive('df-2c06cbc6-2c56-4b79-97f1-4cc4e435a6e6')\"\n",
              "              title=\"Convert this dataframe to an interactive table.\"\n",
              "              style=\"display:none;\">\n",
              "        \n",
              "  <svg xmlns=\"http://www.w3.org/2000/svg\" height=\"24px\"viewBox=\"0 0 24 24\"\n",
              "       width=\"24px\">\n",
              "    <path d=\"M0 0h24v24H0V0z\" fill=\"none\"/>\n",
              "    <path d=\"M18.56 5.44l.94 2.06.94-2.06 2.06-.94-2.06-.94-.94-2.06-.94 2.06-2.06.94zm-11 1L8.5 8.5l.94-2.06 2.06-.94-2.06-.94L8.5 2.5l-.94 2.06-2.06.94zm10 10l.94 2.06.94-2.06 2.06-.94-2.06-.94-.94-2.06-.94 2.06-2.06.94z\"/><path d=\"M17.41 7.96l-1.37-1.37c-.4-.4-.92-.59-1.43-.59-.52 0-1.04.2-1.43.59L10.3 9.45l-7.72 7.72c-.78.78-.78 2.05 0 2.83L4 21.41c.39.39.9.59 1.41.59.51 0 1.02-.2 1.41-.59l7.78-7.78 2.81-2.81c.8-.78.8-2.07 0-2.86zM5.41 20L4 18.59l7.72-7.72 1.47 1.35L5.41 20z\"/>\n",
              "  </svg>\n",
              "      </button>\n",
              "      \n",
              "  <style>\n",
              "    .colab-df-container {\n",
              "      display:flex;\n",
              "      flex-wrap:wrap;\n",
              "      gap: 12px;\n",
              "    }\n",
              "\n",
              "    .colab-df-convert {\n",
              "      background-color: #E8F0FE;\n",
              "      border: none;\n",
              "      border-radius: 50%;\n",
              "      cursor: pointer;\n",
              "      display: none;\n",
              "      fill: #1967D2;\n",
              "      height: 32px;\n",
              "      padding: 0 0 0 0;\n",
              "      width: 32px;\n",
              "    }\n",
              "\n",
              "    .colab-df-convert:hover {\n",
              "      background-color: #E2EBFA;\n",
              "      box-shadow: 0px 1px 2px rgba(60, 64, 67, 0.3), 0px 1px 3px 1px rgba(60, 64, 67, 0.15);\n",
              "      fill: #174EA6;\n",
              "    }\n",
              "\n",
              "    [theme=dark] .colab-df-convert {\n",
              "      background-color: #3B4455;\n",
              "      fill: #D2E3FC;\n",
              "    }\n",
              "\n",
              "    [theme=dark] .colab-df-convert:hover {\n",
              "      background-color: #434B5C;\n",
              "      box-shadow: 0px 1px 3px 1px rgba(0, 0, 0, 0.15);\n",
              "      filter: drop-shadow(0px 1px 2px rgba(0, 0, 0, 0.3));\n",
              "      fill: #FFFFFF;\n",
              "    }\n",
              "  </style>\n",
              "\n",
              "      <script>\n",
              "        const buttonEl =\n",
              "          document.querySelector('#df-2c06cbc6-2c56-4b79-97f1-4cc4e435a6e6 button.colab-df-convert');\n",
              "        buttonEl.style.display =\n",
              "          google.colab.kernel.accessAllowed ? 'block' : 'none';\n",
              "\n",
              "        async function convertToInteractive(key) {\n",
              "          const element = document.querySelector('#df-2c06cbc6-2c56-4b79-97f1-4cc4e435a6e6');\n",
              "          const dataTable =\n",
              "            await google.colab.kernel.invokeFunction('convertToInteractive',\n",
              "                                                     [key], {});\n",
              "          if (!dataTable) return;\n",
              "\n",
              "          const docLinkHtml = 'Like what you see? Visit the ' +\n",
              "            '<a target=\"_blank\" href=https://colab.research.google.com/notebooks/data_table.ipynb>data table notebook</a>'\n",
              "            + ' to learn more about interactive tables.';\n",
              "          element.innerHTML = '';\n",
              "          dataTable['output_type'] = 'display_data';\n",
              "          await google.colab.output.renderOutput(dataTable, element);\n",
              "          const docLink = document.createElement('div');\n",
              "          docLink.innerHTML = docLinkHtml;\n",
              "          element.appendChild(docLink);\n",
              "        }\n",
              "      </script>\n",
              "    </div>\n",
              "  </div>\n",
              "  "
            ]
          },
          "metadata": {},
          "execution_count": 23
        }
      ]
    },
    {
      "cell_type": "markdown",
      "source": [
        "No questions with(out) correct answer"
      ],
      "metadata": {
        "id": "Re8OEA9poaA4"
      }
    },
    {
      "cell_type": "code",
      "source": [
        "df_answer_counts = df[['QuestionID', 'Label']].groupby('QuestionID').agg({'Label': np.sum})"
      ],
      "metadata": {
        "id": "aLZZKiTioZSg"
      },
      "execution_count": 24,
      "outputs": []
    },
    {
      "cell_type": "code",
      "source": [
        "df_answer_counts.value_counts()"
      ],
      "metadata": {
        "colab": {
          "base_uri": "https://localhost:8080/"
        },
        "id": "5w_nMmOKromf",
        "outputId": "5f4d6a9a-2205-4679-8b64-fbe7e9568194"
      },
      "execution_count": 25,
      "outputs": [
        {
          "output_type": "execute_result",
          "data": {
            "text/plain": [
              "Label\n",
              "0        1245\n",
              "1         745\n",
              "2         103\n",
              "3          20\n",
              "7           2\n",
              "4           1\n",
              "5           1\n",
              "6           1\n",
              "dtype: int64"
            ]
          },
          "metadata": {},
          "execution_count": 25
        }
      ]
    },
    {
      "cell_type": "markdown",
      "source": [
        "### Text analysis"
      ],
      "metadata": {
        "id": "9x7fw9DhqSTD"
      }
    },
    {
      "cell_type": "code",
      "source": [
        "unique_questions = df['Question'].unique().tolist()\n",
        "unique_answers = df['Sentence'].unique().tolist()"
      ],
      "metadata": {
        "id": "a6XaqDXxqqCo"
      },
      "execution_count": 26,
      "outputs": []
    },
    {
      "cell_type": "code",
      "source": [
        "def is_token_valid(token):\n",
        "    return not token.is_punct and \\\n",
        "           not token.is_stop and \\\n",
        "           not token.like_email and \\\n",
        "           not token.is_currency and \\\n",
        "           not token.is_quote and \\\n",
        "           not token.is_bracket and \\\n",
        "           not token.is_space and \\\n",
        "           not token.like_num and \\\n",
        "           not token.is_digit"
      ],
      "metadata": {
        "id": "EeivredTqRPq"
      },
      "execution_count": 27,
      "outputs": []
    },
    {
      "cell_type": "code",
      "source": [
        "def tokenize(texts):\n",
        "    words_per_doc = []\n",
        "    all_words = []\n",
        "\n",
        "    for text in tqdm(texts):\n",
        "        doc = nlp(text)\n",
        "        tmp = []\n",
        "        for token in doc:\n",
        "            if is_token_valid(token):\n",
        "                tmp.append(token.lemma_.lower())\n",
        "                all_words.append(token.lemma_.lower())\n",
        "        words_per_doc.append(tmp)\n",
        "\n",
        "    return words_per_doc, all_words"
      ],
      "metadata": {
        "id": "ZZf6JCPaodyJ"
      },
      "execution_count": 28,
      "outputs": []
    },
    {
      "cell_type": "code",
      "source": [
        "words_per_doc_questions, all_words_questions = tokenize(unique_questions)\n",
        "words_per_doc_answers, all_words_answers = tokenize(unique_answers)"
      ],
      "metadata": {
        "id": "38SDeb_QrRRZ",
        "colab": {
          "base_uri": "https://localhost:8080/"
        },
        "outputId": "fb096b76-f40e-4287-ec41-c4a7b456b1cd"
      },
      "execution_count": 29,
      "outputs": [
        {
          "output_type": "stream",
          "name": "stderr",
          "text": [
            "100%|██████████| 2118/2118 [00:17<00:00, 120.85it/s]\n",
            "100%|██████████| 18816/18816 [01:24<00:00, 223.93it/s]\n"
          ]
        }
      ]
    },
    {
      "cell_type": "code",
      "source": [
        "def show_bar_plot(x, y):\n",
        "    plt.bar(x, y)\n",
        "    plt.xticks(rotation=90)\n",
        "    plt.figure(figsize=(16, 10))\n",
        "    plt.show()"
      ],
      "metadata": {
        "id": "CUY8S_Fpr0ct"
      },
      "execution_count": 30,
      "outputs": []
    },
    {
      "cell_type": "code",
      "source": [
        "def show_bar_plot_for_all_words(all_words, start=0, end=20):\n",
        "    counter = Counter(all_words)\n",
        "\n",
        "    items = sorted(list(counter.items()), key=lambda x: x[1], reverse=True)\n",
        "    words = [item[0] for item in items]\n",
        "    freqs = [item[1] for item in items]\n",
        "\n",
        "    show_bar_plot(words[start:end], freqs[start:end])"
      ],
      "metadata": {
        "id": "5Lba4YNerjRO"
      },
      "execution_count": 31,
      "outputs": []
    },
    {
      "cell_type": "code",
      "source": [
        "# most common words in questions\n",
        "show_bar_plot_for_all_words(all_words_questions, start=0, end=20)"
      ],
      "metadata": {
        "id": "_Y097Z11sIOZ",
        "colab": {
          "base_uri": "https://localhost:8080/",
          "height": 310
        },
        "outputId": "ab51a37d-7a8b-4f12-fe08-cfb505dccaa1"
      },
      "execution_count": 32,
      "outputs": [
        {
          "output_type": "display_data",
          "data": {
            "text/plain": [
              "<Figure size 432x288 with 1 Axes>"
            ],
            "image/png": "[encoded data removed]"
          },
          "metadata": {
            "needs_background": "light"
          }
        },
        {
          "output_type": "display_data",
          "data": {
            "text/plain": [
              "<Figure size 1152x720 with 0 Axes>"
            ]
          },
          "metadata": {}
        }
      ]
    },
    {
      "cell_type": "code",
      "source": [
        "# most common words in answers\n",
        "show_bar_plot_for_all_words(all_words_answers, start=0, end=20)"
      ],
      "metadata": {
        "id": "Sxp-g_49sO7a",
        "colab": {
          "base_uri": "https://localhost:8080/",
          "height": 319
        },
        "outputId": "f742fe10-0a7b-4875-f29f-e33494255507"
      },
      "execution_count": 33,
      "outputs": [
        {
          "output_type": "display_data",
          "data": {
            "text/plain": [
              "<Figure size 432x288 with 1 Axes>"
            ],
            "image/png": "[encoded data removed]"
          },
          "metadata": {
            "needs_background": "light"
          }
        },
        {
          "output_type": "display_data",
          "data": {
            "text/plain": [
              "<Figure size 1152x720 with 0 Axes>"
            ]
          },
          "metadata": {}
        }
      ]
    },
    {
      "cell_type": "code",
      "source": [
        "unique_questions_splitted = list(map(lambda x: x.lower().split(), unique_questions))"
      ],
      "metadata": {
        "id": "GPKpOkh9sgCw"
      },
      "execution_count": 34,
      "outputs": []
    },
    {
      "cell_type": "code",
      "source": [
        "# show most frequent first word in questions => all of them are wh questions !\n",
        "show_bar_plot_for_all_words([q_split[0] for q_split in unique_questions_splitted], start=0, end=20)"
      ],
      "metadata": {
        "id": "7uC73lzfuWuv",
        "colab": {
          "base_uri": "https://localhost:8080/",
          "height": 303
        },
        "outputId": "684193d8-7114-4f91-ff1d-babd401a5e80"
      },
      "execution_count": 35,
      "outputs": [
        {
          "output_type": "display_data",
          "data": {
            "text/plain": [
              "<Figure size 432x288 with 1 Axes>"
            ],
            "image/png": "[encoded data removed]"
          },
          "metadata": {
            "needs_background": "light"
          }
        },
        {
          "output_type": "display_data",
          "data": {
            "text/plain": [
              "<Figure size 1152x720 with 0 Axes>"
            ]
          },
          "metadata": {}
        }
      ]
    },
    {
      "cell_type": "code",
      "source": [
        "# show no words per question \n",
        "temp_list = [len(q) for q in unique_questions_splitted]\n",
        "plt.hist(temp_list, bins=20)\n",
        "plt.xlabel('no words per question')\n",
        "plt.ylabel('count')"
      ],
      "metadata": {
        "id": "sjkVJkQDy98d",
        "colab": {
          "base_uri": "https://localhost:8080/",
          "height": 296
        },
        "outputId": "cd3c6b52-9bdb-405c-c023-40de2b3a711a"
      },
      "execution_count": 36,
      "outputs": [
        {
          "output_type": "execute_result",
          "data": {
            "text/plain": [
              "Text(0, 0.5, 'count')"
            ]
          },
          "metadata": {},
          "execution_count": 36
        },
        {
          "output_type": "display_data",
          "data": {
            "text/plain": [
              "<Figure size 432x288 with 1 Axes>"
            ],
            "image/png": "[encoded data removed]"
          },
          "metadata": {
            "needs_background": "light"
          }
        }
      ]
    },
    {
      "cell_type": "code",
      "source": [
        "# show no words per answer \n",
        "unique_answers_splitted = list(map(lambda x: x.lower().split(), unique_answers))\n",
        "temp_list = [len(q) for q in unique_answers_splitted]\n",
        "plt.hist(temp_list, bins=20)\n",
        "plt.xlabel('no words per answer')\n",
        "plt.ylabel('count')"
      ],
      "metadata": {
        "id": "EJdGhHnVzdR-",
        "colab": {
          "base_uri": "https://localhost:8080/",
          "height": 296
        },
        "outputId": "3568df58-60de-42b4-8bba-12542fd49756"
      },
      "execution_count": 37,
      "outputs": [
        {
          "output_type": "execute_result",
          "data": {
            "text/plain": [
              "Text(0, 0.5, 'count')"
            ]
          },
          "metadata": {},
          "execution_count": 37
        },
        {
          "output_type": "display_data",
          "data": {
            "text/plain": [
              "<Figure size 432x288 with 1 Axes>"
            ],
            "image/png": "[encoded data removed]"
          },
          "metadata": {
            "needs_background": "light"
          }
        }
      ]
    },
    {
      "cell_type": "code",
      "source": [
        "plt.hist([t for t in temp_list if t < 100], bins=20)\n",
        "plt.xlabel('no words per answer')\n",
        "plt.ylabel('count')\n",
        "plt.title('< 100')"
      ],
      "metadata": {
        "id": "W69RthyuzsXg",
        "colab": {
          "base_uri": "https://localhost:8080/",
          "height": 312
        },
        "outputId": "60957b3b-bb37-4192-ad60-9106ca305bbf"
      },
      "execution_count": 38,
      "outputs": [
        {
          "output_type": "execute_result",
          "data": {
            "text/plain": [
              "Text(0.5, 1.0, '< 100')"
            ]
          },
          "metadata": {},
          "execution_count": 38
        },
        {
          "output_type": "display_data",
          "data": {
            "text/plain": [
              "<Figure size 432x288 with 1 Axes>"
            ],
            "image/png": "[encoded data removed]"
          },
          "metadata": {
            "needs_background": "light"
          }
        }
      ]
    },
    {
      "cell_type": "code",
      "source": [
        "plt.hist([t for t in temp_list if t > 100], bins=20)\n",
        "plt.xlabel('no words per answer')\n",
        "plt.ylabel('count')\n",
        "plt.title('> 100')"
      ],
      "metadata": {
        "id": "T9ZMfaLAz3gh",
        "colab": {
          "base_uri": "https://localhost:8080/",
          "height": 312
        },
        "outputId": "eac0b8b0-ebfc-4c06-e6bf-6a10e4877937"
      },
      "execution_count": 39,
      "outputs": [
        {
          "output_type": "execute_result",
          "data": {
            "text/plain": [
              "Text(0.5, 1.0, '> 100')"
            ]
          },
          "metadata": {},
          "execution_count": 39
        },
        {
          "output_type": "display_data",
          "data": {
            "text/plain": [
              "<Figure size 432x288 with 1 Axes>"
            ],
            "image/png": "[encoded data removed]"
          },
          "metadata": {
            "needs_background": "light"
          }
        }
      ]
    },
    {
      "cell_type": "code",
      "source": [
        "# show longest answers\n",
        "for i, a in enumerate(unique_answers_splitted):\n",
        "    if len(a) > 100:\n",
        "        print('Len:', len(a), ', answer:', unique_answers[i])\n",
        "        print('='*150)"
      ],
      "metadata": {
        "id": "g05xk0itz-4T",
        "colab": {
          "base_uri": "https://localhost:8080/"
        },
        "outputId": "6f6987ff-2bf8-4296-fd5e-94121abbcd78"
      },
      "execution_count": 40,
      "outputs": [
        {
          "output_type": "stream",
          "name": "stdout",
          "text": [
            "Len: 103 , answer: It is defined in Article 2 of the Convention on the Prevention and Punishment of the Crime of Genocide (CPPCG) of 1948 as \"any of the following acts committed with intent to destroy, in whole or in part, a national, ethnical , racial or religious group, as such: killing members of the group; causing serious bodily or mental harm to members of the group; deliberately inflicting on the groups conditions of life, calculated to bring about its physical destruction in whole or in part; imposing measures intended to prevent births within the group; [and] forcibly transferring children of the group to another group.\"\n",
            "======================================================================================================================================================\n",
            "Len: 109 , answer: Although in the United Kingdom there is no strict legal or formal definition of who is or is not a member of the Royal Family, and different lists will include different people, those carrying the style Her or His Majesty (HM) , or Her or His Royal Highness (HRH) are always considered members, which usually results in the application of the term to the monarch, the consort of the monarch, the widowed consorts of previous monarchs, the children of the monarch and previous monarchs, the male-line grandchildren of the monarch and previous monarchs, and the spouses and the widows of a monarch's and previous monarch's sons and male-line grandsons.\n",
            "======================================================================================================================================================\n",
            "Len: 107 , answer: Over time, several supporting characters have been promoted to starring roles: Leslie Winkle (season 1 recurring; season 2 regular; season 3 guest), a physicist colleague, and, at different times, a lover of both Leonard and Howard; Bernadette Rostenkowski-Wolowitz (season 3 recurring; season 4-present regular), a microbiologist, Howard's fiancée and subsequent wife, and former part-time waitress alongside Penny; neuroscientist Amy Farrah Fowler (season 3 guest; season 4 recurring; season 4-present regular), who joins the group after being matched to Sheldon on a dating website; and comic book store-owner, Stuart Bloom (seasons 2–5 recurring; season 6-present regular), who replaces Howard as Raj's best friend when Howard is in space.\n",
            "======================================================================================================================================================\n",
            "Len: 108 , answer: According to a company press release dated June 29, 2007, Popeyes is the second-largest \"quick-service chicken restaurant group, measured by number of units\", with more than 1,800 restaurants in more than 40 states and the District of Columbia , and over 22 countries worldwide including Turkey , Northern Cyprus , Bahrain , China , Hong Kong , Iraq , Indonesia , Jordan , Kuwait , United Arab Emirates , Japan , Malaysia , Saudi Arabia , South Korea , Singapore , Canada , Jamaica , Guyana , Suriname , Mexico , Trinidad , Puerto Rico , Honduras , Vietnam , Panama , Peru , and Costa Rica .\n",
            "======================================================================================================================================================\n",
            "Len: 166 , answer: Jackie Keith Whitley (July 1, 1954Stambler, Irwin, and Grelun Landon (2000). - Country Music: The Encyclopedia. - New York: St. Martin's Press. - p.533. - ISBN 978-0-312-26487-1.—Carlin, Richard (2003). - Country Music: A Biographical Dictionary. - New York: Routledge - p.427. - ISBN 978-0-415-93802-0.—Larkin, Colin (1995). - The Guinness Encyclopedia of Popular Music. - New York: Stockton Press - P.4462. - ISBN 978-0-85112-662-3.—Stanton, Scott (2003). - The Tombstone Tourist: Musicians. - New York: Pocket Books. - p.395. - ISBN 978-0-7434-6330-0.—Hicks, Jack. - \"Singer Keith Whitley's Memory Alive Through Songs, Love in Home Town\". - The Kentucky Post . - September 25, 1991.—\"Country Music Star Keith Whitley Dead at 33\". - Lexington Herald-Leader . - May 10, 1989.——Hurst, Jack. - \"Whitley's Last Days\". - Chicago Tribune . - May 14, 1989.—\"Alcohol Kills Country Singer Keith Whitley\". - United Press International . - (c/o The San Francisco Chronicle ). - May 10, 1989. — May 9, 1989), known professionally as Keith Whitley, was an American country music singer.\n",
            "======================================================================================================================================================\n"
          ]
        }
      ]
    }
  ]
}