{
  "nbformat": 4,
  "nbformat_minor": 0,
  "metadata": {
    "colab": {
      "name": "QA_RNN-GLOVE-Poboljsanje",
      "provenance": [],
      "collapsed_sections": []
    },
    "kernelspec": {
      "name": "python3",
      "display_name": "Python 3"
    },
    "language_info": {
      "name": "python"
    },
    "accelerator": "GPU",
    "gpuClass": "standard"
  },
  "cells": [
    {
      "cell_type": "code",
      "source": [
        "from google.colab import drive\n",
        "drive.mount('/content/drive')"
      ],
      "metadata": {
        "colab": {
          "base_uri": "https://localhost:8080/"
        },
        "id": "Rv4Gn9iZkfYm",
        "outputId": "9dc2b308-7b7b-4eeb-92e0-08f19ad09baa"
      },
      "execution_count": 1,
      "outputs": [
        {
          "output_type": "stream",
          "name": "stdout",
          "text": [
            "Mounted at /content/drive\n"
          ]
        }
      ]
    },
    {
      "cell_type": "code",
      "source": [
        "import pandas as pd\n",
        "from torch.utils.data import DataLoader\n",
        "import numpy as np\n",
        "import random\n",
        "import torch\n",
        "import math\n",
        "import os\n",
        "from datetime import datetime\n",
        "import time \n",
        "import json\n",
        "\n",
        "from tensorflow.keras.preprocessing.text import Tokenizer\n",
        "from tensorflow.keras.preprocessing.sequence import pad_sequences\n",
        "\n",
        "from keras.models import Model\n",
        "from tensorflow.keras.optimizers import Adam\n",
        "from tensorflow.keras.utils import to_categorical\n",
        "from keras.layers import concatenate\n",
        "from keras.callbacks import Callback, ModelCheckpoint, EarlyStopping\n",
        "from sklearn.metrics import classification_report, confusion_matrix\n",
        "from sklearn.metrics import f1_score"
      ],
      "metadata": {
        "id": "REUvMyKblSRZ"
      },
      "execution_count": 172,
      "outputs": []
    },
    {
      "cell_type": "code",
      "source": [
        "# cd drive/MyDrive/Neuronske/doc/WikiQACorpus/\n"
      ],
      "metadata": {
        "id": "1TeE_s2Ql7Mi"
      },
      "execution_count": 173,
      "outputs": []
    },
    {
      "cell_type": "code",
      "source": [
        "DATASET_FOLDER_PATH = ' WikiQACorpus/'\n",
        "\n",
        "train_dataset_path = \"WikiQA-train.tsv\"\n",
        "dev_dataset_path = \"WikiQA-dev.tsv\"\n",
        "\n",
        "df_train = pd.read_csv(train_dataset_path, delimiter='\\t')\n",
        "df_dev = pd.read_csv(dev_dataset_path, delimiter='\\t')"
      ],
      "metadata": {
        "id": "sV6E4SCaloNc"
      },
      "execution_count": 174,
      "outputs": []
    },
    {
      "cell_type": "markdown",
      "source": [
        "# Hyper parameters"
      ],
      "metadata": {
        "id": "UyvwRgrXdr3W"
      }
    },
    {
      "cell_type": "code",
      "source": [
        "epochs = 7\n",
        "max_length = 40\n",
        "vocab_size = 25594\n",
        "embedding_dim = 300\n",
        "batch_size = 32\n",
        "\n",
        "trunc_type='post'\n",
        "padding_type='post'\n",
        "oov_tok = \"<OOV>\"\n",
        "\n",
        "word_embeddings = None\n",
        "word_embeddings_trainable=True\n",
        "\n",
        "early_stopping = EarlyStopping(monitor='val_loss', patience=2)\n",
        "callbacks = [ModelCheckpoint(\"question_answer_weights.h5\", monitor='val_loss', save_best_only=True)]\n",
        "\n",
        "class_weight = {0: 1., 1: 8.}"
      ],
      "metadata": {
        "id": "kZhxsGqldnK2"
      },
      "execution_count": 175,
      "outputs": []
    },
    {
      "cell_type": "code",
      "source": [
        "df_train.head()"
      ],
      "metadata": {
        "colab": {
          "base_uri": "https://localhost:8080/",
          "height": 206
        },
        "id": "VHtCz775nIhN",
        "outputId": "39ab78b4-f9d7-491e-ca63-3c9c50b94a85"
      },
      "execution_count": 176,
      "outputs": [
        {
          "output_type": "execute_result",
          "data": {
            "text/plain": [
              "  QuestionID                       Question DocumentID DocumentTitle  \\\n",
              "0         Q1  how are glacier caves formed?         D1  Glacier cave   \n",
              "1         Q1  how are glacier caves formed?         D1  Glacier cave   \n",
              "2         Q1  how are glacier caves formed?         D1  Glacier cave   \n",
              "3         Q1  how are glacier caves formed?         D1  Glacier cave   \n",
              "4         Q1  how are glacier caves formed?         D1  Glacier cave   \n",
              "\n",
              "  SentenceID                                           Sentence  Label  \n",
              "0       D1-0  A partly submerged glacier cave on Perito More...      0  \n",
              "1       D1-1          The ice facade is approximately 60 m high      0  \n",
              "2       D1-2          Ice formations in the Titlis glacier cave      0  \n",
              "3       D1-3  A glacier cave is a cave formed within the ice...      1  \n",
              "4       D1-4  Glacier caves are often called ice caves , but...      0  "
            ],
            "text/html": [
              "\n",
              "  <div id=\"df-887a84fa-9f1d-408b-a6e7-9c026b5d3465\">\n",
              "    <div class=\"colab-df-container\">\n",
              "      <div>\n",
              "<style scoped>\n",
              "    .dataframe tbody tr th:only-of-type {\n",
              "        vertical-align: middle;\n",
              "    }\n",
              "\n",
              "    .dataframe tbody tr th {\n",
              "        vertical-align: top;\n",
              "    }\n",
              "\n",
              "    .dataframe thead th {\n",
              "        text-align: right;\n",
              "    }\n",
              "</style>\n",
              "<table border=\"1\" class=\"dataframe\">\n",
              "  <thead>\n",
              "    <tr style=\"text-align: right;\">\n",
              "      <th></th>\n",
              "      <th>QuestionID</th>\n",
              "      <th>Question</th>\n",
              "      <th>DocumentID</th>\n",
              "      <th>DocumentTitle</th>\n",
              "      <th>SentenceID</th>\n",
              "      <th>Sentence</th>\n",
              "      <th>Label</th>\n",
              "    </tr>\n",
              "  </thead>\n",
              "  <tbody>\n",
              "    <tr>\n",
              "      <th>0</th>\n",
              "      <td>Q1</td>\n",
              "      <td>how are glacier caves formed?</td>\n",
              "      <td>D1</td>\n",
              "      <td>Glacier cave</td>\n",
              "      <td>D1-0</td>\n",
              "      <td>A partly submerged glacier cave on Perito More...</td>\n",
              "      <td>0</td>\n",
              "    </tr>\n",
              "    <tr>\n",
              "      <th>1</th>\n",
              "      <td>Q1</td>\n",
              "      <td>how are glacier caves formed?</td>\n",
              "      <td>D1</td>\n",
              "      <td>Glacier cave</td>\n",
              "      <td>D1-1</td>\n",
              "      <td>The ice facade is approximately 60 m high</td>\n",
              "      <td>0</td>\n",
              "    </tr>\n",
              "    <tr>\n",
              "      <th>2</th>\n",
              "      <td>Q1</td>\n",
              "      <td>how are glacier caves formed?</td>\n",
              "      <td>D1</td>\n",
              "      <td>Glacier cave</td>\n",
              "      <td>D1-2</td>\n",
              "      <td>Ice formations in the Titlis glacier cave</td>\n",
              "      <td>0</td>\n",
              "    </tr>\n",
              "    <tr>\n",
              "      <th>3</th>\n",
              "      <td>Q1</td>\n",
              "      <td>how are glacier caves formed?</td>\n",
              "      <td>D1</td>\n",
              "      <td>Glacier cave</td>\n",
              "      <td>D1-3</td>\n",
              "      <td>A glacier cave is a cave formed within the ice...</td>\n",
              "      <td>1</td>\n",
              "    </tr>\n",
              "    <tr>\n",
              "      <th>4</th>\n",
              "      <td>Q1</td>\n",
              "      <td>how are glacier caves formed?</td>\n",
              "      <td>D1</td>\n",
              "      <td>Glacier cave</td>\n",
              "      <td>D1-4</td>\n",
              "      <td>Glacier caves are often called ice caves , but...</td>\n",
              "      <td>0</td>\n",
              "    </tr>\n",
              "  </tbody>\n",
              "</table>\n",
              "</div>\n",
              "      <button class=\"colab-df-convert\" onclick=\"convertToInteractive('df-887a84fa-9f1d-408b-a6e7-9c026b5d3465')\"\n",
              "              title=\"Convert this dataframe to an interactive table.\"\n",
              "              style=\"display:none;\">\n",
              "        \n",
              "  <svg xmlns=\"http://www.w3.org/2000/svg\" height=\"24px\"viewBox=\"0 0 24 24\"\n",
              "       width=\"24px\">\n",
              "    <path d=\"M0 0h24v24H0V0z\" fill=\"none\"/>\n",
              "    <path d=\"M18.56 5.44l.94 2.06.94-2.06 2.06-.94-2.06-.94-.94-2.06-.94 2.06-2.06.94zm-11 1L8.5 8.5l.94-2.06 2.06-.94-2.06-.94L8.5 2.5l-.94 2.06-2.06.94zm10 10l.94 2.06.94-2.06 2.06-.94-2.06-.94-.94-2.06-.94 2.06-2.06.94z\"/><path d=\"M17.41 7.96l-1.37-1.37c-.4-.4-.92-.59-1.43-.59-.52 0-1.04.2-1.43.59L10.3 9.45l-7.72 7.72c-.78.78-.78 2.05 0 2.83L4 21.41c.39.39.9.59 1.41.59.51 0 1.02-.2 1.41-.59l7.78-7.78 2.81-2.81c.8-.78.8-2.07 0-2.86zM5.41 20L4 18.59l7.72-7.72 1.47 1.35L5.41 20z\"/>\n",
              "  </svg>\n",
              "      </button>\n",
              "      \n",
              "  <style>\n",
              "    .colab-df-container {\n",
              "      display:flex;\n",
              "      flex-wrap:wrap;\n",
              "      gap: 12px;\n",
              "    }\n",
              "\n",
              "    .colab-df-convert {\n",
              "      background-color: #E8F0FE;\n",
              "      border: none;\n",
              "      border-radius: 50%;\n",
              "      cursor: pointer;\n",
              "      display: none;\n",
              "      fill: #1967D2;\n",
              "      height: 32px;\n",
              "      padding: 0 0 0 0;\n",
              "      width: 32px;\n",
              "    }\n",
              "\n",
              "    .colab-df-convert:hover {\n",
              "      background-color: #E2EBFA;\n",
              "      box-shadow: 0px 1px 2px rgba(60, 64, 67, 0.3), 0px 1px 3px 1px rgba(60, 64, 67, 0.15);\n",
              "      fill: #174EA6;\n",
              "    }\n",
              "\n",
              "    [theme=dark] .colab-df-convert {\n",
              "      background-color: #3B4455;\n",
              "      fill: #D2E3FC;\n",
              "    }\n",
              "\n",
              "    [theme=dark] .colab-df-convert:hover {\n",
              "      background-color: #434B5C;\n",
              "      box-shadow: 0px 1px 3px 1px rgba(0, 0, 0, 0.15);\n",
              "      filter: drop-shadow(0px 1px 2px rgba(0, 0, 0, 0.3));\n",
              "      fill: #FFFFFF;\n",
              "    }\n",
              "  </style>\n",
              "\n",
              "      <script>\n",
              "        const buttonEl =\n",
              "          document.querySelector('#df-887a84fa-9f1d-408b-a6e7-9c026b5d3465 button.colab-df-convert');\n",
              "        buttonEl.style.display =\n",
              "          google.colab.kernel.accessAllowed ? 'block' : 'none';\n",
              "\n",
              "        async function convertToInteractive(key) {\n",
              "          const element = document.querySelector('#df-887a84fa-9f1d-408b-a6e7-9c026b5d3465');\n",
              "          const dataTable =\n",
              "            await google.colab.kernel.invokeFunction('convertToInteractive',\n",
              "                                                     [key], {});\n",
              "          if (!dataTable) return;\n",
              "\n",
              "          const docLinkHtml = 'Like what you see? Visit the ' +\n",
              "            '<a target=\"_blank\" href=https://colab.research.google.com/notebooks/data_table.ipynb>data table notebook</a>'\n",
              "            + ' to learn more about interactive tables.';\n",
              "          element.innerHTML = '';\n",
              "          dataTable['output_type'] = 'display_data';\n",
              "          await google.colab.output.renderOutput(dataTable, element);\n",
              "          const docLink = document.createElement('div');\n",
              "          docLink.innerHTML = docLinkHtml;\n",
              "          element.appendChild(docLink);\n",
              "        }\n",
              "      </script>\n",
              "    </div>\n",
              "  </div>\n",
              "  "
            ]
          },
          "metadata": {},
          "execution_count": 176
        }
      ]
    },
    {
      "cell_type": "code",
      "source": [
        "def parse_data(df: pd.DataFrame) -> tuple:\n",
        "    questions = df['Question'].tolist()\n",
        "    answers = df['Sentence'].tolist()\n",
        "    labels = df['Label'].tolist()\n",
        "    return questions, answers, labels"
      ],
      "metadata": {
        "id": "FDCCvrB-oP5h"
      },
      "execution_count": 177,
      "outputs": []
    },
    {
      "cell_type": "markdown",
      "source": [
        "Dataset"
      ],
      "metadata": {
        "id": "ehj_It8b8b8T"
      }
    },
    {
      "cell_type": "code",
      "source": [
        "questions_train, answers_train, labels_train = parse_data(df_train)\n",
        "questions_dev, answers_dev, labels_dev = parse_data(df_dev)\n",
        "\n",
        "y_train = np.array(df_train['Label'])\n",
        "y_dev = np.array(df_dev['Label'])\n",
        "\n",
        "y_train_predict = df_train['Label'].values\n",
        "y_dev_predict = df_dev['Label'].values"
      ],
      "metadata": {
        "id": "DHr-L3EqoTrT"
      },
      "execution_count": 178,
      "outputs": []
    },
    {
      "cell_type": "markdown",
      "source": [
        "# Lematization"
      ],
      "metadata": {
        "id": "1_tUzUaMbD2r"
      }
    },
    {
      "cell_type": "code",
      "source": [
        "import nltk\n",
        "nltk.download('stopwords')\n",
        "from nltk.corpus import stopwords\n",
        "from nltk.stem.lancaster import LancasterStemmer\n",
        "from nltk.stem.porter import PorterStemmer\n",
        "from nltk.tokenize import RegexpTokenizer\n",
        "#ps = LancasterStemmer()\n",
        "ps = PorterStemmer()\n",
        "\n",
        "tokenizer = RegexpTokenizer(r'\\w+')\n",
        "stop_words = set(stopwords.words('english'))\n",
        "\n",
        "def remove_stopwords(data):\n",
        "    output_array=[]\n",
        "    for sentence in data:\n",
        "        temp_list=[]\n",
        "        for word in sentence.split():\n",
        "            if word.lower() not in stop_words:\n",
        "                temp_list.append(word)\n",
        "        output_array.append(' '.join(temp_list))\n",
        "    return output_array\n",
        "\n",
        "def preprocessing(data):\n",
        "    txt = data.str.lower().str.cat(sep=' ') #1\n",
        "    words = tokenizer.tokenize(txt) #2\n",
        "    # words = [w for w in words if not w in stop_words] #3\n",
        "    words = remove_stopwords(words)\n",
        "    #words = [ps.stem(w) for w in words] #4 steming acctualy gives worse results when added #4\n",
        "    return words"
      ],
      "metadata": {
        "colab": {
          "base_uri": "https://localhost:8080/"
        },
        "id": "6nY22F4mbGc_",
        "outputId": "3377f7fa-8dfa-4778-f77d-dad9ca79d3c4"
      },
      "execution_count": 179,
      "outputs": [
        {
          "output_type": "stream",
          "name": "stderr",
          "text": [
            "[nltk_data] Downloading package stopwords to /root/nltk_data...\n",
            "[nltk_data]   Package stopwords is already up-to-date!\n"
          ]
        }
      ]
    },
    {
      "cell_type": "markdown",
      "source": [
        "# Data preprocessing"
      ],
      "metadata": {
        "id": "uKVvVsEibOo9"
      }
    },
    {
      "cell_type": "code",
      "source": [
        "import re\n",
        "REPLACE_BY_SPACE_RE = re.compile('[/(){}\\[\\]\\|@,;]')\n",
        "BAD_SYMBOLS_RE = re.compile('[^0-9a-z #+_]')\n",
        "STOPWORDS = set(stopwords.words('english'))\n",
        "def clean_text(text):\n",
        "    \"\"\"\n",
        "        text: a string\n",
        "        return: modified initial string\n",
        "    \"\"\"\n",
        "    text = text.lower() # lowercase text\n",
        "    text = REPLACE_BY_SPACE_RE.sub(' ', text)   # replace REPLACE_BY_SPACE_RE symbols by space in text. substitute the matched string in REPLACE_BY_SPACE_RE with space.\n",
        "    text = BAD_SYMBOLS_RE.sub('', text)         # remove symbols which are in BAD_SYMBOLS_RE from text. substitute the matched string in BAD_SYMBOLS_RE with nothing. \n",
        "    text = text.replace('x', '')\n",
        "    #text = re.sub(r'\\W+', '', text)\n",
        "    text = ' '.join(word for word in text.split() if word not in STOPWORDS) # remove stopwors from text\n",
        "    return text\n",
        "\n",
        "df_train['Cleaned_Questions'] = df_train['Question'].apply(clean_text)\n",
        "df_train['Cleaned_Answers'] = df_train['Sentence'].apply(clean_text)\n",
        "df_dev['Cleaned_Questions'] = df_dev['Question'].apply(clean_text)\n",
        "df_dev['Cleaned_Answers'] = df_dev['Sentence'].apply(clean_text)"
      ],
      "metadata": {
        "id": "2R9aNULobQcq"
      },
      "execution_count": 180,
      "outputs": []
    },
    {
      "cell_type": "code",
      "source": [
        "# training\n",
        "new_str_train_question = [str(x) for x in df_train['Cleaned_Questions']]\n",
        "new_str_train_answer = [str(x) for x in df_train['Cleaned_Answers']]\n",
        "\n",
        "# validation\n",
        "new_str_dev_question = [str(x) for x in df_dev['Cleaned_Questions']]\n",
        "new_str_dev_answer = [str(x) for x in df_dev['Cleaned_Answers']]\n",
        "\n",
        "# training\n",
        "df_train_questions = pd.DataFrame(new_str_train_question)\n",
        "df_train_answers = pd.DataFrame(new_str_train_answer)\n",
        "\n",
        "# validation\n",
        "df_dev_questions = pd.DataFrame(new_str_dev_question)\n",
        "df_dev_answers = pd.DataFrame(new_str_dev_answer)\n",
        "\n",
        "train_questions = []\n",
        "train_answers = []\n",
        "dev_questions = []\n",
        "dev_answers = []\n",
        "\n",
        "for i in range(len(df_train_questions)):\n",
        "  train_questions.append(preprocessing(df_train_questions.iloc[i]))\n",
        "for i in range(len(df_train_answers)):\n",
        "  train_answers.append(preprocessing(df_train_answers.iloc[i]))\n",
        "for i in range(len(df_dev_questions)):\n",
        "  dev_questions.append(preprocessing(df_dev_questions.iloc[i]))\n",
        "for i in range(len(df_dev_answers)):\n",
        "  dev_answers.append(preprocessing(df_dev_answers.iloc[i]))"
      ],
      "metadata": {
        "id": "1o4iG6U_eS1P"
      },
      "execution_count": 181,
      "outputs": []
    },
    {
      "cell_type": "markdown",
      "source": [
        "# Data Frame preparation"
      ],
      "metadata": {
        "id": "Be2KKCD6feEc"
      }
    },
    {
      "cell_type": "code",
      "source": [
        "# convert df to list\n",
        "\n",
        "questions_training = train_questions\n",
        "answers_training = train_answers\n",
        "labels_training = df_train['Label'].values.tolist()\n",
        "\n",
        "questions_dev = dev_questions\n",
        "answers_dev = dev_answers\n",
        "labels_dev = df_dev['Label'].values.tolist()"
      ],
      "metadata": {
        "id": "4vwPJ9URffEU"
      },
      "execution_count": 182,
      "outputs": []
    },
    {
      "cell_type": "markdown",
      "source": [
        "# Tokenization"
      ],
      "metadata": {
        "id": "OL517taBgOBp"
      }
    },
    {
      "cell_type": "code",
      "source": [
        "tokenizer = Tokenizer(num_words=vocab_size, oov_token=oov_tok)\n",
        "\n",
        "# Training-questions\n",
        "tokenizer.fit_on_texts(questions_training)\n",
        "training_questions = tokenizer.texts_to_sequences(questions_training)\n",
        "training_questions_padded = pad_sequences(training_questions, maxlen=max_length, padding=padding_type, truncating=trunc_type)\n",
        "\n",
        "# Training-answers\n",
        "tokenizer.fit_on_texts(answers_training)\n",
        "training_answers = tokenizer.texts_to_sequences(answers_training)\n",
        "training_answers_padded = pad_sequences(training_answers, maxlen=max_length, padding=padding_type, truncating=trunc_type)\n",
        "\n",
        "# Validation-questions\n",
        "tokenizer.fit_on_texts(questions_dev)\n",
        "dev_questions = tokenizer.texts_to_sequences(questions_dev)\n",
        "dev_questions_padded = pad_sequences(dev_questions, maxlen=max_length, padding=padding_type, truncating=trunc_type)\n",
        "\n",
        "# Validation-answers\n",
        "tokenizer.fit_on_texts(answers_dev)\n",
        "dev_answers = tokenizer.texts_to_sequences(answers_dev)\n",
        "dev_answers_padded = pad_sequences(dev_answers, maxlen=max_length, padding=padding_type, truncating=trunc_type)"
      ],
      "metadata": {
        "id": "8SRaElqsgPm5"
      },
      "execution_count": 183,
      "outputs": []
    },
    {
      "cell_type": "code",
      "source": [
        "import numpy as np\n",
        "training_questions_padded = np.array(training_questions_padded)\n",
        "training_answers_padded = np.array(training_answers_padded)\n",
        "training_labels = np.array(labels_training)\n",
        "\n",
        "dev_questions_padded = np.array(dev_questions_padded)\n",
        "dev_answers_padded = np.array(dev_answers_padded)\n",
        "dev_labels = np.array(labels_dev)"
      ],
      "metadata": {
        "id": "pH6DcFAXhEdA"
      },
      "execution_count": 184,
      "outputs": []
    },
    {
      "cell_type": "markdown",
      "source": [
        "# Loading pretrained embeding (Globe.6B.300d Stanford)"
      ],
      "metadata": {
        "id": "NHUGF3i3funZ"
      }
    },
    {
      "cell_type": "code",
      "source": [
        "# load the whole embedding into memory\n",
        "embeddings_index = dict()\n",
        "f = open('glove.6B.300d.txt')\n",
        "\n",
        "for line in f:\n",
        "    values = line.split()\n",
        "    word = values[0]\n",
        "    coefs = np.asarray(values[1:], dtype='float32')\n",
        "    embeddings_index[word] = coefs\n",
        "\n",
        "f.close()\n",
        "print('Loaded %s word vectors.' % len(embeddings_index))"
      ],
      "metadata": {
        "colab": {
          "base_uri": "https://localhost:8080/"
        },
        "id": "HseeryQxfva9",
        "outputId": "0f068453-95ee-48d3-dd4b-b0a479e79924"
      },
      "execution_count": 185,
      "outputs": [
        {
          "output_type": "stream",
          "name": "stdout",
          "text": [
            "Loaded 400000 word vectors.\n"
          ]
        }
      ]
    },
    {
      "cell_type": "code",
      "source": [
        "# create a weight matrix for words in training docs\n",
        "MAX_VOCAB_SIZE = len(tokenizer.word_index.items())+1\n",
        "embedding_matrix = np.zeros((MAX_VOCAB_SIZE, embedding_dim))\n",
        "\n",
        "for word, i in tokenizer.word_index.items():\n",
        "    embedding_vector = embeddings_index.get(word)\n",
        "    if embedding_vector is not None:\n",
        "        embedding_matrix[i] = embedding_vector"
      ],
      "metadata": {
        "id": "ee9ZB96xfxUp"
      },
      "execution_count": 186,
      "outputs": []
    },
    {
      "cell_type": "markdown",
      "source": [
        "# Model construction"
      ],
      "metadata": {
        "id": "xff9S9HpiJ8P"
      }
    },
    {
      "cell_type": "code",
      "source": [
        "from keras.layers import Input, Dense, Embedding, LSTM, Dropout, Activation, concatenate, BatchNormalization\n",
        "import tensorflow as tf\n",
        "\n",
        "# model input\n",
        "q_input = Input(shape=(max_length,))\n",
        "a_input = Input(shape=(max_length,))"
      ],
      "metadata": {
        "id": "UIkOagGuh6j3"
      },
      "execution_count": 187,
      "outputs": []
    },
    {
      "cell_type": "code",
      "source": [
        "# embedding layer\n",
        "embedding_layer = Embedding(MAX_VOCAB_SIZE, embedding_dim, weights=[embedding_matrix], input_length=max_length,\n",
        "          trainable=True)\n",
        "\n",
        "# conversion into word embedding matrix\n",
        "q = embedding_layer(q_input)\n",
        "a = embedding_layer(a_input)\n",
        "\n",
        "# add LSTM layer, get their new representation\n",
        "q = LSTM(50, return_sequences=True)(q)\n",
        "a = LSTM(50, return_sequences=True)(a)\n",
        "\n",
        "q = LSTM(50, return_sequences=False)(q)\n",
        "a = LSTM(50, return_sequences=False)(a)\n",
        "\n",
        "# concatenate vectors for classification\n",
        "merged = concatenate([q, a])\n",
        "\n",
        "# add dense layer, and dropout, batch normalization to prevent over fitting\n",
        "merged = Dense(200, activation='relu')(merged)\n",
        "merged = Dropout(0.2)(merged)\n",
        "merged = BatchNormalization()(merged)\n",
        "\n",
        "# another same layer\n",
        "merged = Dense(200, activation='relu')(merged)\n",
        "merged = Dropout(0.2)(merged)\n",
        "merged = BatchNormalization()(merged)\n",
        "\n",
        "# output the probability\n",
        "output = Dense(2, activation='sigmoid')(merged)"
      ],
      "metadata": {
        "id": "Df8tqQ_OAhM7"
      },
      "execution_count": 188,
      "outputs": []
    },
    {
      "cell_type": "code",
      "source": [
        "model = Model([q_input, a_input], output)\n",
        "adam = tf.keras.optimizers.Adam(lr=0.001, beta_1=0.9, beta_2=0.999, epsilon=None, decay=1e-6, amsgrad=False)\n",
        "model.compile(loss='binary_crossentropy', optimizer=adam)\n"
      ],
      "metadata": {
        "id": "q2ST_VOREE0J"
      },
      "execution_count": null,
      "outputs": []
    },
    {
      "cell_type": "code",
      "source": [
        "y_categorical = tf.keras.utils.to_categorical(\n",
        "    labels_train, num_classes=2, dtype='float32'\n",
        ")\n",
        "\n",
        "y_categorical_dev = tf.keras.utils.to_categorical(\n",
        "    labels_dev, num_classes=2, dtype='float32'\n",
        ")\n",
        "\n",
        "validation_data=([dev_questions_padded, dev_answers_padded], y_categorical_dev)"
      ],
      "metadata": {
        "id": "tpAvi08r8UEh"
      },
      "execution_count": 190,
      "outputs": []
    },
    {
      "cell_type": "code",
      "source": [
        "print(\"Starting training at\", datetime.now())\n",
        "start_time = time.time()\n",
        "\n",
        "# start training\n",
        "history = model.fit([training_questions_padded, training_answers_padded], y_categorical, epochs=epochs, batch_size=batch_size, callbacks=callbacks,\n",
        "                          class_weight=class_weight, validation_data=validation_data)\n",
        "\n",
        "end_time = time.time()\n",
        "print(\"Training ended at\", datetime.now())\n",
        "print(\"Minutes elapsed: %f\" % ((end_time - start_time) / 60.))"
      ],
      "metadata": {
        "colab": {
          "base_uri": "https://localhost:8080/"
        },
        "id": "uCf_LopFEhnz",
        "outputId": "1d17a0e3-a570-45d7-d225-f1aec25c7eac"
      },
      "execution_count": 191,
      "outputs": [
        {
          "output_type": "stream",
          "name": "stdout",
          "text": [
            "Starting training at 2022-07-15 13:29:42.016388\n",
            "Epoch 1/7\n",
            "636/636 [==============================] - 21s 24ms/step - loss: 0.9425 - val_loss: 0.2457\n",
            "Epoch 2/7\n",
            "636/636 [==============================] - 12s 19ms/step - loss: 0.7680 - val_loss: 0.3834\n",
            "Epoch 3/7\n",
            "636/636 [==============================] - 12s 19ms/step - loss: 0.5349 - val_loss: 0.9211\n",
            "Epoch 4/7\n",
            "636/636 [==============================] - 12s 19ms/step - loss: 0.3171 - val_loss: 0.4810\n",
            "Epoch 5/7\n",
            "636/636 [==============================] - 12s 19ms/step - loss: 0.1983 - val_loss: 0.3106\n",
            "Epoch 6/7\n",
            "636/636 [==============================] - 12s 19ms/step - loss: 0.1308 - val_loss: 0.6719\n",
            "Epoch 7/7\n",
            "636/636 [==============================] - 12s 19ms/step - loss: 0.1095 - val_loss: 0.5523\n",
            "Training ended at 2022-07-15 13:31:14.684524\n",
            "Minutes elapsed: 1.544466\n"
          ]
        }
      ]
    },
    {
      "cell_type": "code",
      "source": [
        "p = model.predict([training_questions_padded, training_answers_padded])\n",
        "y_pred = []\n",
        "for prediction in p:\n",
        "    y_pred.append(np.argmax(prediction, axis=0))"
      ],
      "metadata": {
        "id": "BFj-dHphLlLB"
      },
      "execution_count": 192,
      "outputs": []
    },
    {
      "cell_type": "code",
      "source": [
        "print(confusion_matrix(y_train_predict, y_pred))"
      ],
      "metadata": {
        "colab": {
          "base_uri": "https://localhost:8080/"
        },
        "id": "5-yDsDxOLs6V",
        "outputId": "4b5d7a21-2439-4f5a-e264-ec85ecd16a12"
      },
      "execution_count": 193,
      "outputs": [
        {
          "output_type": "stream",
          "name": "stdout",
          "text": [
            "[[18942   366]\n",
            " [    6  1033]]\n"
          ]
        }
      ]
    },
    {
      "cell_type": "code",
      "source": [
        "print(classification_report(y_train_predict, y_pred))"
      ],
      "metadata": {
        "colab": {
          "base_uri": "https://localhost:8080/"
        },
        "id": "tZSwj8ATLvxo",
        "outputId": "4b481180-4e16-4515-983d-e8194a5226fc"
      },
      "execution_count": 194,
      "outputs": [
        {
          "output_type": "stream",
          "name": "stdout",
          "text": [
            "              precision    recall  f1-score   support\n",
            "\n",
            "           0       1.00      0.98      0.99     19308\n",
            "           1       0.74      0.99      0.85      1039\n",
            "\n",
            "    accuracy                           0.98     20347\n",
            "   macro avg       0.87      0.99      0.92     20347\n",
            "weighted avg       0.99      0.98      0.98     20347\n",
            "\n"
          ]
        }
      ]
    },
    {
      "cell_type": "code",
      "source": [
        "print(f1_score(y_train, y_pred, average=\"macro\"))"
      ],
      "metadata": {
        "colab": {
          "base_uri": "https://localhost:8080/"
        },
        "id": "YDu7JheaNivI",
        "outputId": "60dd76ab-76c7-4b3b-b170-3e52f67413a6"
      },
      "execution_count": 195,
      "outputs": [
        {
          "output_type": "stream",
          "name": "stdout",
          "text": [
            "0.9188459749079556\n"
          ]
        }
      ]
    },
    {
      "cell_type": "code",
      "source": [
        "import pandas as pd\n",
        "import tensorflow as tf\n",
        "from tensorflow import keras\n",
        "from sklearn.model_selection import train_test_split\n",
        "import numpy as np\n",
        "import matplotlib.pyplot as plt\n",
        "\n",
        "loss_train = history.history['loss']\n",
        "loss_val = history.history['val_loss']\n",
        "epochs = range(1,epochs+1)\n",
        "plt.plot(epochs, loss_train, 'g', label='Training loss')\n",
        "plt.plot(epochs, loss_val, 'b', label='validation loss')\n",
        "plt.title('Training and Validation loss')\n",
        "plt.xlabel('Epochs')\n",
        "plt.ylabel('Loss')\n",
        "plt.legend()\n",
        "plt.show()"
      ],
      "metadata": {
        "colab": {
          "base_uri": "https://localhost:8080/",
          "height": 295
        },
        "id": "fK9ERlmYNytR",
        "outputId": "e4af2e4c-8436-49bd-fdce-a0824263017e"
      },
      "execution_count": 196,
      "outputs": [
        {
          "output_type": "display_data",
          "data": {
            "text/plain": [
              "<Figure size 432x288 with 1 Axes>"
            ],
            "image/png": "[encoded data removed]"
          },
          "metadata": {
            "needs_background": "light"
          }
        }
      ]
    },
    {
      "cell_type": "markdown",
      "source": [
        "# Test"
      ],
      "metadata": {
        "id": "EXzsqP0xOihh"
      }
    },
    {
      "cell_type": "code",
      "source": [
        "p = model.predict([dev_questions_padded, dev_answers_padded])\n",
        "y_dev_pred = []\n",
        "for prediction in p:\n",
        "    y_dev_pred.append(np.argmax(prediction, axis=0))"
      ],
      "metadata": {
        "id": "xx8VKJQ9OUPL"
      },
      "execution_count": 197,
      "outputs": []
    },
    {
      "cell_type": "code",
      "source": [
        "print(confusion_matrix(y_dev_predict, y_dev_pred))"
      ],
      "metadata": {
        "colab": {
          "base_uri": "https://localhost:8080/"
        },
        "id": "VPIhk4P4OhV2",
        "outputId": "b714a4e7-a0f2-47d0-abd3-d28157b3f8a3"
      },
      "execution_count": 198,
      "outputs": [
        {
          "output_type": "stream",
          "name": "stdout",
          "text": [
            "[[2310  283]\n",
            " [ 108   32]]\n"
          ]
        }
      ]
    },
    {
      "cell_type": "code",
      "source": [
        "print(classification_report(y_dev_predict, y_dev_pred))"
      ],
      "metadata": {
        "colab": {
          "base_uri": "https://localhost:8080/"
        },
        "id": "GqwgXRExOlVf",
        "outputId": "2b88e135-d5b8-41aa-a810-17fd3b15d03f"
      },
      "execution_count": 199,
      "outputs": [
        {
          "output_type": "stream",
          "name": "stdout",
          "text": [
            "              precision    recall  f1-score   support\n",
            "\n",
            "           0       0.96      0.89      0.92      2593\n",
            "           1       0.10      0.23      0.14       140\n",
            "\n",
            "    accuracy                           0.86      2733\n",
            "   macro avg       0.53      0.56      0.53      2733\n",
            "weighted avg       0.91      0.86      0.88      2733\n",
            "\n"
          ]
        }
      ]
    },
    {
      "cell_type": "code",
      "source": [
        "print(f1_score(y_dev_predict, y_dev_pred, average=\"macro\"))"
      ],
      "metadata": {
        "colab": {
          "base_uri": "https://localhost:8080/"
        },
        "id": "wnTy9VMdOssi",
        "outputId": "0a21d584-ad41-40ac-c7a3-01e4dbe91b84"
      },
      "execution_count": 200,
      "outputs": [
        {
          "output_type": "stream",
          "name": "stdout",
          "text": [
            "0.5313155015010932\n"
          ]
        }
      ]
    }
  ]
}